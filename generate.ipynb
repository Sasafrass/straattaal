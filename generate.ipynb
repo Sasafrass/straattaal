{
 "cells": [
  {
   "cell_type": "code",
   "execution_count": 1,
   "metadata": {},
   "outputs": [],
   "source": [
    "%load_ext autoreload\n",
    "%autoreload 2"
   ]
  },
  {
   "cell_type": "code",
   "execution_count": 2,
   "metadata": {},
   "outputs": [
    {
     "name": "stdout",
     "output_type": "stream",
     "text": [
      "Database URI: sqlite:////home/anna/Documents/prog/dutchlm/straattaal/app.db\n"
     ]
    }
   ],
   "source": [
    "from app.ml_models.rnn.rnn_model import RNNAnna\n",
    "from app.ml_models.rnn.generate import generate_word\n",
    "from app.ml_models.rnn.data_tools import WordLevelDataset"
   ]
  },
  {
   "cell_type": "code",
   "execution_count": 3,
   "metadata": {},
   "outputs": [
    {
     "name": "stdout",
     "output_type": "stream",
     "text": [
      "61\n"
     ]
    }
   ],
   "source": [
    "import os\n",
    "import torch\n",
    "from app.ml_models.rnn.loaded_rnn_model import load_model\n",
    "m, hi = load_model('2021_straattaal_epoch100.pt')\n",
    "print(hi.size)"
   ]
  },
  {
   "cell_type": "code",
   "execution_count": 4,
   "metadata": {},
   "outputs": [],
   "source": [
    "from app.ml_models.rnn.file_readers import SlangReader\n",
    "from collections import Counter\n",
    "import editdistance\n",
    "s = SlangReader()\n",
    "lines = s.read_lines('data/straattaal.txt')"
   ]
  },
  {
   "cell_type": "code",
   "execution_count": 5,
   "metadata": {},
   "outputs": [],
   "source": [
    "copy_traindata = Counter()\n",
    "def generate_words(amt = 10, temperature=0.3, do_print=True):\n",
    "    copied = 0\n",
    "    for i in range(amt):\n",
    "        word = generate_word(m, hi, temperature=temperature, start_letter='random')\n",
    "        distance = min([(editdistance.distance(a,word),a) for a in lines])\n",
    "        if distance[0] > 0:\n",
    "            if do_print:\n",
    "                print(word, f\"\\t\\t(Closest match {distance[1]}, edit distance={distance[0]})\")\n",
    "        else:\n",
    "            copy_traindata[word] += 1\n",
    "            copied +=1\n",
    "        \n",
    "    print(f'Copied words: {temperature}', copied/amt)"
   ]
  },
  {
   "cell_type": "code",
   "execution_count": 6,
   "metadata": {},
   "outputs": [
    {
     "name": "stdout",
     "output_type": "stream",
     "text": [
      "zisce \t\t(Closest match asie, edit distance=3)\n",
      "yroe \t\t(Closest match afoe, edit distance=2)\n",
      "una \t\t(Closest match apa, edit distance=2)\n",
      "rempe \t\t(Closest match bempi, edit distance=2)\n",
      "ipi \t\t(Closest match idi, edit distance=1)\n",
      "una \t\t(Closest match apa, edit distance=2)\n",
      "xroe \t\t(Closest match afoe, edit distance=2)\n",
      "erajka \t\t(Closest match brakka, edit distance=2)\n",
      "tokiela \t\t(Closest match mobila, edit distance=3)\n",
      "erajka \t\t(Closest match brakka, edit distance=2)\n",
      "yagra \t\t(Closest match agga, edit distance=2)\n",
      "fayer \t\t(Closest match faya, edit distance=2)\n",
      "vimri \t\t(Closest match vimre, edit distance=1)\n",
      "pira \t\t(Closest match para, edit distance=1)\n",
      "Copied words: 0.35 0.3\n"
     ]
    }
   ],
   "source": [
    "generate_words(20, 0.35,True)"
   ]
  },
  {
   "cell_type": "code",
   "execution_count": 7,
   "metadata": {},
   "outputs": [
    {
     "name": "stdout",
     "output_type": "stream",
     "text": [
      "Copied words: 0.001 0.71\n",
      "Copied words: 0.1 0.57\n",
      "Copied words: 0.3 0.55\n",
      "Copied words: 0.4 0.44\n",
      "Copied words: 0.6 0.3\n",
      "Copied words: 1.0 0.23\n"
     ]
    }
   ],
   "source": [
    "for t in [0.001, 0.1,0.3,0.4,0.6,1.0]:\n",
    "    generate_words(100,t,False)"
   ]
  },
  {
   "cell_type": "code",
   "execution_count": 13,
   "metadata": {},
   "outputs": [
    {
     "data": {
      "text/plain": [
       "Counter({'jo': 18,\n",
       "         'nakken': 19,\n",
       "         'chillen': 13,\n",
       "         'karsdash': 6,\n",
       "         'mokro': 12,\n",
       "         'donnie': 2,\n",
       "         'foeroe': 1,\n",
       "         'baik': 1,\n",
       "         'snagga': 1,\n",
       "         'do': 2,\n",
       "         'conjo': 1,\n",
       "         'bling': 2,\n",
       "         'nacken': 1,\n",
       "         'scrilla': 1,\n",
       "         'roffa': 3,\n",
       "         'wierrie': 1,\n",
       "         'weerie': 1,\n",
       "         'faka': 1,\n",
       "         'kappie': 2,\n",
       "         'hopy': 1,\n",
       "         'koeli': 2,\n",
       "         'tjappa': 1,\n",
       "         'faja': 2,\n",
       "         'para': 1,\n",
       "         'appa': 2,\n",
       "         'chinoe': 1,\n",
       "         'ewa': 1,\n",
       "         'jonko': 1,\n",
       "         'holla': 1,\n",
       "         'vingalinga': 1,\n",
       "         'remi': 1,\n",
       "         'lidorro': 1,\n",
       "         'challa': 1,\n",
       "         'roffadam': 1,\n",
       "         'wakka': 1,\n",
       "         'flowa': 1,\n",
       "         'offie': 2,\n",
       "         'liti': 1})"
      ]
     },
     "execution_count": 13,
     "metadata": {},
     "output_type": "execute_result"
    }
   ],
   "source": [
    "# Which datapoints are often simply copied?\n",
    "copy_traindata"
   ]
  }
 ],
 "metadata": {
  "kernelspec": {
   "display_name": "Python 3.8.5 64-bit ('python38': conda)",
   "language": "python",
   "name": "python38564bitpython38condab39e7ba599934a11ab2cc6ee4fea03c8"
  },
  "language_info": {
   "codemirror_mode": {
    "name": "ipython",
    "version": 3
   },
   "file_extension": ".py",
   "mimetype": "text/x-python",
   "name": "python",
   "nbconvert_exporter": "python",
   "pygments_lexer": "ipython3",
   "version": "3.8.5"
  }
 },
 "nbformat": 4,
 "nbformat_minor": 4
}
