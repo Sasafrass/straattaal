{
 "cells": [
  {
   "cell_type": "code",
   "execution_count": 2,
   "metadata": {},
   "outputs": [],
   "source": [
    "%load_ext autoreload\n",
    "%autoreload 2"
   ]
  },
  {
   "cell_type": "code",
   "execution_count": 3,
   "metadata": {},
   "outputs": [
    {
     "name": "stdout",
     "output_type": "stream",
     "text": [
      "Database URI: sqlite:////home/anna/Documents/prog/dutchlm/straattaal/app.db\n"
     ]
    }
   ],
   "source": [
    "from app.ml_models.rnn.rnn_model import RNNAnna\n",
    "from app.ml_models.rnn.generate import generate_word\n",
    "from app.ml_models.rnn.data_tools import WordLevelDataset"
   ]
  },
  {
   "cell_type": "code",
   "execution_count": 4,
   "metadata": {},
   "outputs": [
    {
     "name": "stdout",
     "output_type": "stream",
     "text": [
      "Vocabulary [' ', \"'\", '-', '.', '0', '1', '2', '3', '4', '5', '6', '7', '8', '9', 'a', 'b', 'c', 'd', 'e', 'f', 'g', 'h', 'i', 'j', 'k', 'l', 'm', 'n', 'o', 'p', 'q', 'r', 's', 't', 'u', 'v', 'w', 'x', 'y', 'z', 'à', 'á', 'â', 'ä', 'ç', 'è', 'é', 'ê', 'ë', 'í', 'î', 'ï', 'ñ', 'ó', 'ô', 'ö', 'ú', 'û', 'ü', '<BOS>', '<EOS>']\n",
      "61\n"
     ]
    }
   ],
   "source": [
    "import os\n",
    "import torch\n",
    "path = os.path.join(os.path.abspath(os.getcwd()), \"app\", \"ml_models\", \"rnn\")\n",
    "path = os.path.join(path, 'pretrained_NL_epoch5.pt')\n",
    "hi = WordLevelDataset('data/', 'straattaal.txt')\n",
    "m = RNNAnna(hi.vocabulary_size,128)\n",
    "print(hi.vocabulary_size)"
   ]
  },
  {
   "cell_type": "code",
   "execution_count": 5,
   "metadata": {},
   "outputs": [
    {
     "data": {
      "text/plain": [
       "<All keys matched successfully>"
      ]
     },
     "execution_count": 5,
     "metadata": {},
     "output_type": "execute_result"
    }
   ],
   "source": [
    "checkpoint = torch.load(path)\n",
    "m.load_state_dict(checkpoint['model_state_dict'])"
   ]
  },
  {
   "cell_type": "code",
   "execution_count": 6,
   "metadata": {},
   "outputs": [],
   "source": [
    "from app.ml_models.rnn.file_readers import SlangReader\n",
    "from collections import Counter\n",
    "import editdistance\n",
    "s = SlangReader()\n",
    "lines = s.read_lines('data/straattaal.txt')"
   ]
  },
  {
   "cell_type": "code",
   "execution_count": 8,
   "metadata": {},
   "outputs": [
    {
     "name": "stdout",
     "output_type": "stream",
     "text": [
      "maler<EOS> \t\t(Closest match meier, edit distance=7)\n",
      "man<EOS> \t\t(Closest match mang, edit distance=5)\n",
      "mande<EOS> \t\t(Closest match ankeren, edit distance=7)\n",
      "man<EOS> \t\t(Closest match mang, edit distance=5)\n",
      "man<EOS> \t\t(Closest match mang, edit distance=5)\n",
      "man<EOS> \t\t(Closest match mang, edit distance=5)\n",
      "man<EOS> \t\t(Closest match mang, edit distance=5)\n",
      "man<EOS> \t\t(Closest match mang, edit distance=5)\n",
      "man<EOS> \t\t(Closest match mang, edit distance=5)\n",
      "mater<EOS> \t\t(Closest match inter, edit distance=7)\n",
      "minand<EOS> \t\t(Closest match balanda, edit distance=8)\n",
      "maron<EOS> \t\t(Closest match grontjie, edit distance=7)\n",
      "mhter<EOS> \t\t(Closest match chieren, edit distance=7)\n",
      "man<EOS> \t\t(Closest match mang, edit distance=5)\n",
      "man<EOS> \t\t(Closest match mang, edit distance=5)\n",
      "man<EOS> \t\t(Closest match mang, edit distance=5)\n",
      "man<EOS> \t\t(Closest match mang, edit distance=5)\n",
      "mandemen<EOS> \t\t(Closest match ankeren, edit distance=8)\n",
      "manen<EOS> \t\t(Closest match bananas, edit distance=7)\n",
      "man<EOS> \t\t(Closest match mang, edit distance=5)\n"
     ]
    }
   ],
   "source": [
    "GENERATE_AMT = 20\n",
    "copy_traindata = Counter()\n",
    "#letter = 'd'\n",
    "letter = None\n",
    "for i in range(GENERATE_AMT):\n",
    "    word = generate_word(m, hi, temperature=0.15, start_letter='m')\n",
    "    distance = min([(editdistance.distance(a,word),a) for a in lines])\n",
    "    if distance[0] > 0:\n",
    "        print(word, f\"\\t\\t(Closest match {distance[1]}, edit distance={distance[0]})\")\n",
    "    else:\n",
    "        copy_traindata[word] += 1\n",
    "        \n"
   ]
  },
  {
   "cell_type": "code",
   "execution_count": null,
   "metadata": {},
   "outputs": [],
   "source": []
  }
 ],
 "metadata": {
  "kernelspec": {
   "display_name": "Python 3.8.5 64-bit ('python38': conda)",
   "language": "python",
   "name": "python38564bitpython38condab39e7ba599934a11ab2cc6ee4fea03c8"
  },
  "language_info": {
   "codemirror_mode": {
    "name": "ipython",
    "version": 3
   },
   "file_extension": ".py",
   "mimetype": "text/x-python",
   "name": "python",
   "nbconvert_exporter": "python",
   "pygments_lexer": "ipython3",
   "version": "3.8.5"
  }
 },
 "nbformat": 4,
 "nbformat_minor": 4
}
