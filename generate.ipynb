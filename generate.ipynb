{
 "cells": [
  {
   "cell_type": "code",
   "execution_count": 5,
   "metadata": {},
   "outputs": [],
   "source": [
    "from app.ml_models.rnn.loaded_rnn_model import *\n",
    "from app.ml_models.rnn.generate import generate_word\n",
    "import random"
   ]
  },
  {
   "cell_type": "code",
   "execution_count": 2,
   "metadata": {},
   "outputs": [],
   "source": [
    "m, letters = return_loaded_model()"
   ]
  },
  {
   "cell_type": "code",
   "execution_count": 23,
   "metadata": {},
   "outputs": [],
   "source": [
    "from app.ml_models.rnn.file_readers import SlangReader\n",
    "from collections import Counter\n",
    "import editdistance\n",
    "s = SlangReader()\n",
    "lines = s.read_lines('data/straattaal.txt')"
   ]
  },
  {
   "cell_type": "code",
   "execution_count": 32,
   "metadata": {},
   "outputs": [
    {
     "name": "stdout",
     "output_type": "stream",
     "text": [
      "jinka \t\t(Closest match bika, edit distance=2)\n",
      "roeka \t\t(Closest match joeka, edit distance=1)\n",
      "oroe \t\t(Closest match afoe, edit distance=2)\n",
      "lattangala \t\t(Closest match tranga, edit distance=5)\n",
      "xroo \t\t(Closest match armo, edit distance=2)\n",
      "dagsa \t\t(Closest match agga, edit distance=2)\n",
      "eris \t\t(Closest match vras, edit distance=2)\n",
      "daggie \t\t(Closest match daggoe, edit distance=1)\n",
      "xpana \t\t(Closest match pana, edit distance=1)\n",
      "chilla \t\t(Closest match challa, edit distance=1)\n",
      "wagga \t\t(Closest match agga, edit distance=1)\n",
      "angi \t\t(Closest match anti, edit distance=1)\n",
      "moko \t\t(Closest match mokro, edit distance=1)\n",
      "xroe \t\t(Closest match afoe, edit distance=2)\n",
      "hontas \t\t(Closest match conta, edit distance=2)\n",
      "tappa \t\t(Closest match appa, edit distance=1)\n",
      "zangha \t\t(Closest match bangsa, edit distance=2)\n"
     ]
    }
   ],
   "source": [
    "GENERATE_AMT = 20\n",
    "copy_traindata = Counter()\n",
    "#letter = 'd'\n",
    "letter = None\n",
    "for i in range(GENERATE_AMT):\n",
    "    word = generate_word(m,len(letters)+1,letters,start_letter=random.choice(\"abcdefghijklmnopqrstuvwxyz\") if letter is None else letter, temp=0.2)\n",
    "    distance = min([(editdistance.distance(a,word),a) for a in lines])\n",
    "    if distance[0] > 0:\n",
    "        print(word, f\"\\t\\t(Closest match {distance[1]}, edit distance={distance[0]})\")\n",
    "    else:\n",
    "        copy_traindata[word] += 1\n",
    "        \n"
   ]
  }
 ],
 "metadata": {
  "kernelspec": {
   "display_name": "Python 3.8.5 64-bit ('python38': conda)",
   "language": "python",
   "name": "python38564bitpython38condab39e7ba599934a11ab2cc6ee4fea03c8"
  },
  "language_info": {
   "codemirror_mode": {
    "name": "ipython",
    "version": 3
   },
   "file_extension": ".py",
   "mimetype": "text/x-python",
   "name": "python",
   "nbconvert_exporter": "python",
   "pygments_lexer": "ipython3",
   "version": "3.8.5"
  }
 },
 "nbformat": 4,
 "nbformat_minor": 4
}
