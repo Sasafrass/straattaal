{
 "cells": [
  {
   "cell_type": "code",
   "execution_count": 2,
   "source": [
    "from __future__ import unicode_literals, print_function, division\n",
    "from io import open\n",
    "import glob\n",
    "import os\n",
    "\n",
    "def findFiles(path): return glob.glob(path)\n",
    "files = findFiles('data/*.txt')\n",
    "print(files)\n",
    "import re\n",
    "def readLines(filename):\n",
    "    lines = open(filename, encoding='utf-8').read().strip().split('\\n')\n",
    "    lines = [s.lower() for s in lines]\n",
    "    lines = [re.sub(\"[\\t\\s]\", '', s) for s in lines]\n",
    "    return lines\n",
    "\n",
    "for filename in files:\n",
    "    lines = readLines(filename)"
   ],
   "outputs": [
    {
     "output_type": "stream",
     "name": "stdout",
     "text": [
      "['data/straattaal.txt']\n"
     ]
    }
   ],
   "metadata": {}
  },
  {
   "cell_type": "code",
   "execution_count": 3,
   "source": [
    "import torch\n",
    "torch.__version__"
   ],
   "outputs": [
    {
     "output_type": "execute_result",
     "data": {
      "text/plain": [
       "'1.8.0'"
      ]
     },
     "metadata": {},
     "execution_count": 3
    }
   ],
   "metadata": {}
  },
  {
   "cell_type": "code",
   "execution_count": 9,
   "source": [
    "letters = set(\" \".join(lines))\n",
    "all_letters = \"\"\n",
    "for s in letters:\n",
    "    all_letters += all_letters.join(s)\n",
    "\n",
    "n_letters = len(all_letters) + 1 # EOS\n",
    "all_letters, len(all_letters), n_letters"
   ],
   "outputs": [
    {
     "output_type": "execute_result",
     "data": {
      "text/plain": [
       "('ntgarxubciyjleozwsfmp hvçkd', 27, 28)"
      ]
     },
     "metadata": {},
     "execution_count": 9
    }
   ],
   "metadata": {}
  },
  {
   "cell_type": "code",
   "execution_count": 11,
   "source": [
    "modelpath = 'app/ml_models/rnn/'"
   ],
   "outputs": [],
   "metadata": {}
  },
  {
   "cell_type": "code",
   "execution_count": 9,
   "source": [
    "with open(modelpath + '2019-11072021_all_letters.txt', 'r') as file:\n",
    "    all_letters = file.read()\n",
    "    file.close()\n",
    "n_letters = len(all_letters) + 1 \n",
    "all_letters"
   ],
   "outputs": [
    {
     "output_type": "execute_result",
     "data": {
      "text/plain": [
       "'moityuwnkçgzfvrxbasdehjlcp'"
      ]
     },
     "metadata": {},
     "execution_count": 9
    }
   ],
   "metadata": {}
  },
  {
   "cell_type": "code",
   "execution_count": 10,
   "source": [
    "def inputTensor(line):\n",
    "    tensor = torch.zeros(len(line), 1, n_letters)\n",
    "    for li in range(len(line)):\n",
    "        letter = line[li]\n",
    "        tensor[li][0][all_letters.find(letter)] = 1\n",
    "    return tensor"
   ],
   "outputs": [],
   "metadata": {}
  },
  {
   "cell_type": "code",
   "execution_count": 11,
   "source": [
    "def targetTensor(line):\n",
    "    letter_indexes = [all_letters.find(line[li]) for li in range(1, len(line))]\n",
    "    letter_indexes.append(n_letters - 1) # EOS\n",
    "    return torch.LongTensor(letter_indexes)"
   ],
   "outputs": [],
   "metadata": {}
  },
  {
   "cell_type": "code",
   "execution_count": 12,
   "source": [
    "def randomChoice(l):\n",
    "    return l[torch.randint(len(l), size=[1])]\n",
    "def randomTrain():\n",
    "    line = randomChoice(lines)\n",
    "    input_line_tensor = inputTensor(line)\n",
    "    target_line_tensor = targetTensor(line)\n",
    "    return input_line_tensor, target_line_tensor"
   ],
   "outputs": [],
   "metadata": {}
  },
  {
   "cell_type": "code",
   "execution_count": 13,
   "source": [
    "inputs, target = randomTrain()\n",
    "inputs.size(), target.size()"
   ],
   "outputs": [
    {
     "output_type": "execute_result",
     "data": {
      "text/plain": [
       "(torch.Size([4, 1, 27]), torch.Size([4]))"
      ]
     },
     "metadata": {},
     "execution_count": 13
    }
   ],
   "metadata": {}
  },
  {
   "cell_type": "code",
   "execution_count": 20,
   "source": [
    "import torch\n",
    "import torch.nn as nn\n",
    "\n",
    "class RNN(nn.Module):\n",
    "    def __init__(self, input_size, hidden_size, output_size, drop=0):\n",
    "        super(RNN, self).__init__()\n",
    "\n",
    "        self.hidden_size = hidden_size\n",
    "        self.i2h = nn.Linear(input_size + hidden_size, hidden_size)\n",
    "        self.i2o = nn.Linear(hidden_size, output_size)\n",
    "        self.softmax = nn.LogSoftmax(dim=1)\n",
    "        self.tanh = nn.Tanh()\n",
    "        self.dropout = nn.Dropout(drop)\n",
    "\n",
    "    def forward(self, input, hidden):\n",
    "        combined = torch.cat((input, hidden), 1)\n",
    "        hidden = self.tanh(self.i2h(combined))\n",
    "        output = self.i2o(hidden)\n",
    "        output = self.dropout(output)\n",
    "        output = self.softmax(output)\n",
    "        return output, hidden\n",
    "\n",
    "    def initHidden(self):\n",
    "        return torch.zeros(1, self.hidden_size)\n",
    "\n",
    "n_hidden = 128\n",
    "rnn = RNN(n_letters, n_hidden, n_letters)"
   ],
   "outputs": [],
   "metadata": {}
  },
  {
   "cell_type": "code",
   "execution_count": 15,
   "source": [
    "criterion = nn.NLLLoss()\n",
    "learning_rate = 0.0005\n",
    "\n",
    "def train(input_line_tensor, target_line_tensor):\n",
    "    target_line_tensor.unsqueeze_(-1)\n",
    "    hidden = rnn.initHidden()\n",
    "    rnn.zero_grad()\n",
    "    loss = 0\n",
    "\n",
    "    for i in range(input_line_tensor.size(0)):\n",
    "        output, hidden = rnn(input_line_tensor[i], hidden)\n",
    "        l = criterion(output, target_line_tensor[i])\n",
    "        loss += l\n",
    "\n",
    "    loss.backward()\n",
    "\n",
    "    for p in rnn.parameters():\n",
    "        p.data.add_(p.grad.data, alpha=-learning_rate)\n",
    "\n",
    "    return output, loss.item() / input_line_tensor.size(0)"
   ],
   "outputs": [],
   "metadata": {}
  },
  {
   "cell_type": "code",
   "execution_count": 16,
   "source": [
    "import time\n",
    "import math\n",
    "\n",
    "def timeSince(since):\n",
    "    now = time.time()\n",
    "    s = now - since\n",
    "    m = math.floor(s / 60)\n",
    "    s -= m * 60\n",
    "    return '%dm %ds' % (m, s)"
   ],
   "outputs": [],
   "metadata": {}
  },
  {
   "cell_type": "code",
   "execution_count": 20,
   "source": [
    "rnn = RNN(n_letters, 128, n_letters)"
   ],
   "outputs": [],
   "metadata": {}
  },
  {
   "cell_type": "code",
   "execution_count": 17,
   "source": [
    "def sample(model, start_letter='a', maxn=20, temp=1):\n",
    "    with torch.no_grad():\n",
    "        input = inputTensor(start_letter)\n",
    "        hidden = model.initHidden()\n",
    "        output_name = start_letter\n",
    "        for i in range(maxn):\n",
    "            output, hidden = model(input[0], hidden)\n",
    "            if temp != 1:\n",
    "                # print(\"use temp\")\n",
    "                probs = torch.softmax(output, 1) / temp\n",
    "                # probs = output / temp\n",
    "                dist = torch.distributions.Categorical(probs)\n",
    "                pick = dist.sample()\n",
    "            else:\n",
    "                topv, topi = output.topk(1)\n",
    "                pick = topi[0][0]\n",
    "            if pick == n_letters - 1:\n",
    "                break\n",
    "            else:\n",
    "                letter = all_letters[pick]\n",
    "                output_name += letter\n",
    "            input = inputTensor(letter)\n",
    "        return output_name"
   ],
   "outputs": [],
   "metadata": {}
  },
  {
   "cell_type": "code",
   "execution_count": 22,
   "source": [
    "from tqdm import tqdm"
   ],
   "outputs": [],
   "metadata": {}
  },
  {
   "cell_type": "code",
   "execution_count": 25,
   "source": [
    "n_iters = 100000\n",
    "print_every = 5000\n",
    "plot_every = 500\n",
    "all_losses = []\n",
    "total_loss = 0 # Reset every plot_every iters\n",
    "\n",
    "start = time.time()\n",
    "\n",
    "for iter in tqdm(range(1, n_iters + 1)):\n",
    "    output, loss = train(*randomTrain())\n",
    "    total_loss += loss\n",
    "\n",
    "    if iter % print_every == 0:\n",
    "        for i in range(3):\n",
    "            word = sample(rnn, start_letter=randomChoice(all_letters), temp=1)\n",
    "            if word not in lines:\n",
    "                print(word, \" X\")\n",
    "            else:\n",
    "                print(word, \" V\")\n",
    "        print('%s (%d %d%%) %.4f' % (timeSince(start), iter, iter / n_iters * 100, loss))\n",
    "\n",
    "    if iter % plot_every == 0:\n",
    "        all_losses.append(total_loss / plot_every)\n",
    "        total_loss = 0"
   ],
   "outputs": [
    {
     "output_type": "stream",
     "name": "stderr",
     "text": [
      "  5%|██████▍                                                                                                                       | 5073/100000 [00:09<03:05, 512.00it/s]"
     ]
    },
    {
     "output_type": "stream",
     "name": "stdout",
     "text": [
      "haa  X\n",
      "xaa  X\n",
      "kaa  X\n",
      "0m 8s (5000 5%) 2.1797\n"
     ]
    },
    {
     "output_type": "stream",
     "name": "stderr",
     "text": [
      " 10%|████████████▌                                                                                                                | 10090/100000 [00:18<02:24, 622.65it/s]"
     ]
    },
    {
     "output_type": "stream",
     "name": "stdout",
     "text": [
      "dana  X\n",
      "wana  X\n",
      "fana  X\n",
      "0m 18s (10000 10%) 2.2779\n"
     ]
    },
    {
     "output_type": "stream",
     "name": "stderr",
     "text": [
      " 15%|██████████████████▊                                                                                                          | 15089/100000 [00:27<02:33, 552.13it/s]"
     ]
    },
    {
     "output_type": "stream",
     "name": "stdout",
     "text": [
      "eoen  X\n",
      "jana  X\n",
      "nana  X\n",
      "0m 27s (15000 15%) 2.1736\n"
     ]
    },
    {
     "output_type": "stream",
     "name": "stderr",
     "text": [
      " 20%|█████████████████████████                                                                                                    | 20053/100000 [00:36<02:21, 564.14it/s]"
     ]
    },
    {
     "output_type": "stream",
     "name": "stdout",
     "text": [
      "bana  X\n",
      "kanka  X\n",
      "gana  X\n",
      "0m 36s (20000 20%) 2.2237\n"
     ]
    },
    {
     "output_type": "stream",
     "name": "stderr",
     "text": [
      " 25%|███████████████████████████████▎                                                                                             | 25051/100000 [00:44<02:22, 525.98it/s]"
     ]
    },
    {
     "output_type": "stream",
     "name": "stdout",
     "text": [
      "xanga  X\n",
      "janga  X\n",
      "yanga  X\n",
      "0m 44s (25000 25%) 1.5868\n"
     ]
    },
    {
     "output_type": "stream",
     "name": "stderr",
     "text": [
      " 30%|█████████████████████████████████████▌                                                                                       | 30092/100000 [00:52<01:54, 609.07it/s]"
     ]
    },
    {
     "output_type": "stream",
     "name": "stdout",
     "text": [
      "oenoe  X\n",
      "langa  X\n",
      "panga  X\n",
      "0m 52s (30000 30%) 1.5092\n"
     ]
    },
    {
     "output_type": "stream",
     "name": "stderr",
     "text": [
      " 35%|███████████████████████████████████████████▉                                                                                 | 35107/100000 [01:02<01:50, 585.18it/s]"
     ]
    },
    {
     "output_type": "stream",
     "name": "stdout",
     "text": [
      "xang  X\n",
      "oenoe  X\n",
      "enie  X\n",
      "1m 2s (35000 35%) 1.4831\n"
     ]
    },
    {
     "output_type": "stream",
     "name": "stderr",
     "text": [
      " 40%|██████████████████████████████████████████████████                                                                           | 40088/100000 [01:11<01:48, 554.34it/s]"
     ]
    },
    {
     "output_type": "stream",
     "name": "stdout",
     "text": [
      "lang  X\n",
      "zang  X\n",
      "vang  X\n",
      "1m 11s (40000 40%) 1.8851\n"
     ]
    },
    {
     "output_type": "stream",
     "name": "stderr",
     "text": [
      " 45%|████████████████████████████████████████████████████████▎                                                                    | 45078/100000 [01:20<01:32, 596.46it/s]"
     ]
    },
    {
     "output_type": "stream",
     "name": "stdout",
     "text": [
      "sanga  X\n",
      "lang  X\n",
      "faka  V\n",
      "1m 20s (45000 45%) 1.8814\n"
     ]
    },
    {
     "output_type": "stream",
     "name": "stderr",
     "text": [
      " 50%|██████████████████████████████████████████████████████████████▌                                                              | 50064/100000 [01:29<01:27, 569.06it/s]"
     ]
    },
    {
     "output_type": "stream",
     "name": "stdout",
     "text": [
      "faka  V\n",
      "erie  X\n",
      "taka  X\n",
      "1m 29s (50000 50%) 1.9487\n"
     ]
    },
    {
     "output_type": "stream",
     "name": "stderr",
     "text": [
      " 55%|████████████████████████████████████████████████████████████████████▊                                                        | 55092/100000 [01:38<01:12, 620.03it/s]"
     ]
    },
    {
     "output_type": "stream",
     "name": "stdout",
     "text": [
      "lang  X\n",
      "yang  X\n",
      "dakken  X\n",
      "1m 37s (55000 55%) 2.3818\n"
     ]
    },
    {
     "output_type": "stream",
     "name": "stderr",
     "text": [
      " 60%|███████████████████████████████████████████████████████████████████████████                                                  | 60096/100000 [01:46<01:05, 611.02it/s]"
     ]
    },
    {
     "output_type": "stream",
     "name": "stdout",
     "text": [
      "hoenoe  X\n",
      "anga  X\n",
      "roeka  X\n",
      "1m 46s (60000 60%) 1.5345\n"
     ]
    },
    {
     "output_type": "stream",
     "name": "stderr",
     "text": [
      " 65%|█████████████████████████████████████████████████████████████████████████████████▎                                           | 65088/100000 [01:54<01:06, 524.15it/s]"
     ]
    },
    {
     "output_type": "stream",
     "name": "stdout",
     "text": [
      "wakka  V\n",
      "çaka  X\n",
      "xroe  X\n",
      "1m 54s (65000 65%) 1.7140\n"
     ]
    },
    {
     "output_type": "stream",
     "name": "stderr",
     "text": [
      " 70%|███████████████████████████████████████████████████████████████████████████████████████▋                                     | 70106/100000 [02:03<00:51, 584.88it/s]"
     ]
    },
    {
     "output_type": "stream",
     "name": "stdout",
     "text": [
      "vaka  X\n",
      "roeka  X\n",
      "taka  X\n",
      "2m 3s (70000 70%) 2.1367\n"
     ]
    },
    {
     "output_type": "stream",
     "name": "stderr",
     "text": [
      " 75%|█████████████████████████████████████████████████████████████████████████████████████████████▊                               | 75053/100000 [02:13<00:45, 543.33it/s]"
     ]
    },
    {
     "output_type": "stream",
     "name": "stdout",
     "text": [
      "nassen  X\n",
      "banga  X\n",
      "daggie  X\n",
      "2m 13s (75000 75%) 2.5192\n"
     ]
    },
    {
     "output_type": "stream",
     "name": "stderr",
     "text": [
      " 80%|████████████████████████████████████████████████████████████████████████████████████████████████████                         | 80094/100000 [02:22<00:36, 552.08it/s]"
     ]
    },
    {
     "output_type": "stream",
     "name": "stdout",
     "text": [
      "gaa  X\n",
      "sara  X\n",
      "çaka  X\n",
      "2m 22s (80000 80%) 1.2078\n"
     ]
    },
    {
     "output_type": "stream",
     "name": "stderr",
     "text": [
      " 85%|██████████████████████████████████████████████████████████████████████████████████████████████████████████▎                  | 85096/100000 [02:31<00:25, 575.22it/s]"
     ]
    },
    {
     "output_type": "stream",
     "name": "stdout",
     "text": [
      "ula  X\n",
      "yagg  X\n",
      "yagg  X\n",
      "2m 31s (85000 85%) 1.3608\n"
     ]
    },
    {
     "output_type": "stream",
     "name": "stderr",
     "text": [
      " 90%|████████████████████████████████████████████████████████████████████████████████████████████████████████████████▋            | 90105/100000 [02:40<00:16, 602.23it/s]"
     ]
    },
    {
     "output_type": "stream",
     "name": "stdout",
     "text": [
      "zang  X\n",
      "hoeroe  X\n",
      "sara  X\n",
      "2m 40s (90000 90%) 1.1203\n"
     ]
    },
    {
     "output_type": "stream",
     "name": "stderr",
     "text": [
      " 95%|██████████████████████████████████████████████████████████████████████████████████████████████████████████████████████▊      | 95082/100000 [02:49<00:09, 523.75it/s]"
     ]
    },
    {
     "output_type": "stream",
     "name": "stdout",
     "text": [
      "angi  X\n",
      "wagga  X\n",
      "faka  V\n",
      "2m 49s (95000 95%) 1.3721\n"
     ]
    },
    {
     "output_type": "stream",
     "name": "stderr",
     "text": [
      "100%|████████████████████████████████████████████████████████████████████████████████████████████████████████████████████████████| 100000/100000 [02:57<00:00, 561.96it/s]"
     ]
    },
    {
     "output_type": "stream",
     "name": "stdout",
     "text": [
      "taka  X\n",
      "taka  X\n",
      "ula  X\n",
      "2m 57s (100000 100%) 2.0358\n"
     ]
    },
    {
     "output_type": "stream",
     "name": "stderr",
     "text": [
      "\n"
     ]
    }
   ],
   "metadata": {}
  },
  {
   "cell_type": "code",
   "execution_count": 26,
   "source": [
    "import matplotlib.pyplot as plt\n",
    "\n",
    "plt.figure()\n",
    "plt.plot(all_losses)\n",
    "plt.show()"
   ],
   "outputs": [
    {
     "output_type": "display_data",
     "data": {
      "text/plain": [
       "<Figure size 432x288 with 1 Axes>"
      ],
      "image/png": "[encoded data removed]"
     },
     "metadata": {
      "needs_background": "light"
     }
    }
   ],
   "metadata": {}
  },
  {
   "cell_type": "code",
   "execution_count": 27,
   "source": [
    "for i in range(30):\n",
    "    print(sample(rnn, start_letter=randomChoice(all_letters), temp=1))"
   ],
   "outputs": [],
   "metadata": {}
  },
  {
   "cell_type": "markdown",
   "source": [
    "# save model and letters"
   ],
   "metadata": {}
  },
  {
   "cell_type": "code",
   "execution_count": null,
   "source": [
    "from datetime import datetime\n",
    "now = datetime.today().strftime(\"%H%M-%d%m%Y\")\n",
    "path = modelpath + now + \"_straattaal.pth\"\n",
    "path"
   ],
   "outputs": [],
   "metadata": {}
  },
  {
   "cell_type": "code",
   "execution_count": null,
   "source": [
    "torch.save(rnn.state_dict(), path)\n",
    "print(\"Saved PyTorch Model State to {}\".format(modelpath))"
   ],
   "outputs": [],
   "metadata": {}
  },
  {
   "cell_type": "code",
   "execution_count": null,
   "source": [
    "with open(modelpath + now + \"_all_letters.txt\", \"w\") as text_file:\n",
    "    text_file.write(all_letters)\n",
    "    text_file.close()"
   ],
   "outputs": [],
   "metadata": {}
  },
  {
   "cell_type": "markdown",
   "source": [
    "# Load model and letters"
   ],
   "metadata": {}
  },
  {
   "cell_type": "code",
   "execution_count": 1,
   "source": [
    "modelpath = 'app/ml_models/rnn/'\n",
    "with open(modelpath + '2019-11072021_all_letters.txt', 'r') as file:\n",
    "    all_letters = file.read()\n",
    "    file.close()\n",
    "all_letters"
   ],
   "outputs": [
    {
     "output_type": "execute_result",
     "data": {
      "text/plain": [
       "'moityuwnkçgzfvrxbasdehjlcp'"
      ]
     },
     "metadata": {},
     "execution_count": 1
    }
   ],
   "metadata": {}
  },
  {
   "cell_type": "code",
   "execution_count": 21,
   "source": [
    "modelname = modelpath + '2019-11072021_straattaal.pth'\n",
    "model = RNN(n_letters, 128, n_letters, drop=0)\n",
    "model.load_state_dict(torch.load(modelname))"
   ],
   "outputs": [
    {
     "output_type": "execute_result",
     "data": {
      "text/plain": [
       "<All keys matched successfully>"
      ]
     },
     "metadata": {},
     "execution_count": 21
    }
   ],
   "metadata": {}
  },
  {
   "cell_type": "code",
   "execution_count": 25,
   "source": [
    "for i in range(30):\n",
    "    print(sample(model, start_letter=randomChoice(all_letters), temp=1))"
   ],
   "outputs": [
    {
     "output_type": "stream",
     "name": "stdout",
     "text": [
      "chilla\n",
      "erie\n",
      "pana\n",
      "daggie\n",
      "roeka\n",
      "ingi\n",
      "oeno\n",
      "chilla\n",
      "roeka\n",
      "bakka\n",
      "groeka\n",
      "xroe\n",
      "angi\n",
      "angi\n",
      "xroe\n",
      "angi\n",
      "joeka\n",
      "sarama\n",
      "angi\n",
      "ula\n",
      "oeno\n",
      "zang\n",
      "wagga\n",
      "roeka\n",
      "yaga\n",
      "ingi\n",
      "motta\n",
      "motta\n",
      "hoela\n",
      "groeka\n"
     ]
    }
   ],
   "metadata": {}
  },
  {
   "cell_type": "code",
   "execution_count": null,
   "source": [],
   "outputs": [],
   "metadata": {}
  }
 ],
 "metadata": {
  "kernelspec": {
   "display_name": "Python 3 (ipykernel)",
   "language": "python",
   "name": "python3"
  },
  "language_info": {
   "codemirror_mode": {
    "name": "ipython",
    "version": 3
   },
   "file_extension": ".py",
   "mimetype": "text/x-python",
   "name": "python",
   "nbconvert_exporter": "python",
   "pygments_lexer": "ipython3",
   "version": "3.8.10"
  }
 },
 "nbformat": 4,
 "nbformat_minor": 4
}