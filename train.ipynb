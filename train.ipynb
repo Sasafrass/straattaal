{
 "cells": [
  {
   "cell_type": "code",
   "execution_count": 1,
   "metadata": {},
   "outputs": [],
   "source": [
    "%load_ext autoreload\n",
    "%autoreload 2"
   ]
  },
  {
   "cell_type": "code",
   "execution_count": 2,
   "metadata": {},
   "outputs": [],
   "source": [
    "device = 'cuda'"
   ]
  },
  {
   "cell_type": "code",
   "execution_count": 42,
   "metadata": {},
   "outputs": [
    {
     "name": "stderr",
     "output_type": "stream",
     "text": [
      "  0%|          | 17/173544 [00:00<17:06, 169.00it/s]"
     ]
    },
    {
     "name": "stdout",
     "output_type": "stream",
     "text": [
      "61\n"
     ]
    },
    {
     "name": "stderr",
     "output_type": "stream",
     "text": [
      "  3%|▎         | 5012/173544 [00:32<20:28, 137.21it/s]"
     ]
    },
    {
     "name": "stdout",
     "output_type": "stream",
     "text": [
      "31.800828325817598\n",
      "\t lertwer\n",
      "\t qesterer\n",
      "\t seitrer\n",
      "\t ferenten\n",
      "\t kere\n",
      "\t kerner\n",
      "\t helen\n",
      "\t terttser\n",
      "\t menter\n",
      "\t aereuterea\n"
     ]
    },
    {
     "name": "stderr",
     "output_type": "stream",
     "text": [
      "  6%|▌         | 10019/173544 [01:05<19:19, 141.00it/s]"
     ]
    },
    {
     "name": "stdout",
     "output_type": "stream",
     "text": [
      "30.443369651343872\n",
      "\t qerenger\n",
      "\t onteren\n",
      "\t mernerken\n",
      "\t qepteren\n",
      "\t unteren\n",
      "\t ferterser\n",
      "\t poren\n",
      "\t leomeerlan\n",
      "\t qensewredtenben\n",
      "\t uerenleer\n"
     ]
    },
    {
     "name": "stderr",
     "output_type": "stream",
     "text": [
      "  9%|▊         | 15022/173544 [01:39<19:02, 138.74it/s]"
     ]
    },
    {
     "name": "stdout",
     "output_type": "stream",
     "text": [
      "29.627680804604044\n",
      "\t rooer\n",
      "\t oatarier\n",
      "\t sariet\n",
      "\t fmerdeur\n",
      "\t sloacher\n",
      "\t qerier\n",
      "\t qelen\n",
      "\t uronterler\n",
      "\t qersster\n",
      "\t kerroor\n"
     ]
    },
    {
     "name": "stderr",
     "output_type": "stream",
     "text": [
      " 12%|█▏        | 20018/173544 [02:12<17:52, 143.13it/s]"
     ]
    },
    {
     "name": "stdout",
     "output_type": "stream",
     "text": [
      "29.050515374765855\n",
      "\t roonden\n",
      "\t terensteen\n",
      "\t nerantijf\n",
      "\t urterster\n",
      "\t longestain\n",
      "\t ariheerain\n",
      "\t porien\n",
      "\t steringen\n",
      "\t qerensterden\n",
      "\t locheerweatun\n"
     ]
    },
    {
     "name": "stderr",
     "output_type": "stream",
     "text": [
      " 14%|█▍        | 25014/173544 [02:44<17:51, 138.60it/s]"
     ]
    },
    {
     "name": "stdout",
     "output_type": "stream",
     "text": [
      "28.60462983533227\n",
      "\t perden\n",
      "\t hocherder\n",
      "\t hoorgerind\n",
      "\t naandewen\n",
      "\t maurmaarig\n",
      "\t roogen\n",
      "\t mpand\n",
      "\t qeren\n",
      "\t laarbier\n",
      "\t lijning\n"
     ]
    },
    {
     "name": "stderr",
     "output_type": "stream",
     "text": [
      " 17%|█▋        | 30013/173544 [03:18<18:36, 128.58it/s]"
     ]
    },
    {
     "name": "stdout",
     "output_type": "stream",
     "text": [
      "28.278534446606187\n",
      "\t auten\n",
      "\t sterstier\n",
      "\t nasten\n",
      "\t sters\n",
      "\t lijken\n",
      "\t routan\n",
      "\t feterinrent\n",
      "\t urtersteg\n",
      "\t kerden\n",
      "\t uwersteren\n"
     ]
    },
    {
     "name": "stderr",
     "output_type": "stream",
     "text": [
      " 20%|██        | 35024/173544 [03:51<15:13, 151.58it/s]"
     ]
    },
    {
     "name": "stdout",
     "output_type": "stream",
     "text": [
      "27.99931324830433\n",
      "\t uider\n",
      "\t pordet\n",
      "\t merder\n",
      "\t ander\n",
      "\t rispering\n",
      "\t strronder\n",
      "\t richer\n",
      "\t master\n",
      "\t odegelin\n",
      "\t sperder\n"
     ]
    },
    {
     "name": "stderr",
     "output_type": "stream",
     "text": [
      " 23%|██▎       | 40019/173544 [04:24<15:25, 144.25it/s]"
     ]
    },
    {
     "name": "stdout",
     "output_type": "stream",
     "text": [
      "27.79456307269975\n",
      "\t schtelen\n",
      "\t lopren\n",
      "\t mander\n",
      "\t poovenderlek\n",
      "\t nereing\n",
      "\t ferender\n",
      "\t kerdel\n",
      "\t ondorder\n",
      "\t scherd\n",
      "\t kalinger\n"
     ]
    },
    {
     "name": "stderr",
     "output_type": "stream",
     "text": [
      " 26%|██▌       | 45026/173544 [04:56<13:33, 158.04it/s]"
     ]
    },
    {
     "name": "stdout",
     "output_type": "stream",
     "text": [
      "27.62318941477593\n",
      "\t lendot\n",
      "\t kercomenan\n",
      "\t rorden\n",
      "\t anitien\n",
      "\t kerdens\n",
      "\t perden\n",
      "\t lelen\n",
      "\t roopever\n",
      "\t kerden\n",
      "\t schalenener\n"
     ]
    },
    {
     "name": "stderr",
     "output_type": "stream",
     "text": [
      " 29%|██▉       | 50019/173544 [05:29<13:29, 152.55it/s]"
     ]
    },
    {
     "name": "stdout",
     "output_type": "stream",
     "text": [
      "27.499039064910633\n",
      "\t lierster\n",
      "\t hordegen\n",
      "\t mabeden\n",
      "\t maarien\n",
      "\t roversle\n",
      "\t hooder\n",
      "\t maarign\n",
      "\t onderiek\n",
      "\t kaatstraat\n",
      "\t tien\n"
     ]
    },
    {
     "name": "stderr",
     "output_type": "stream",
     "text": [
      " 32%|███▏      | 55022/173544 [06:01<15:17, 129.13it/s]"
     ]
    },
    {
     "name": "stdout",
     "output_type": "stream",
     "text": [
      "27.359077811993266\n",
      "\t prontkoer\n",
      "\t nooster\n",
      "\t terster\n",
      "\t schoorstiever\n",
      "\t urstering\n",
      "\t oprenker\n",
      "\t hoopraar\n",
      "\t lijstering\n",
      "\t tuiturie\n",
      "\t noorstiet\n"
     ]
    },
    {
     "name": "stderr",
     "output_type": "stream",
     "text": [
      " 35%|███▍      | 60015/173544 [06:34<13:12, 143.25it/s]"
     ]
    },
    {
     "name": "stdout",
     "output_type": "stream",
     "text": [
      "27.24027473685459\n",
      "\t kentsterbe\n",
      "\t noomter\n",
      "\t mingering\n",
      "\t ropenter\n",
      "\t ondingerlan\n",
      "\t antel\n",
      "\t penteer\n",
      "\t uiterster\n",
      "\t teren\n",
      "\t manteranaarine\n"
     ]
    },
    {
     "name": "stderr",
     "output_type": "stream",
     "text": [
      " 37%|███▋      | 65021/173544 [07:06<12:34, 143.91it/s]"
     ]
    },
    {
     "name": "stdout",
     "output_type": "stream",
     "text": [
      "27.145168877551754\n",
      "\t fiekenking\n",
      "\t matister\n",
      "\t hoordereklen\n",
      "\t ondenster\n",
      "\t ondechting\n",
      "\t urtversten\n",
      "\t ariegdering\n",
      "\t nerengerenker\n",
      "\t kering\n",
      "\t fisterested\n"
     ]
    },
    {
     "name": "stderr",
     "output_type": "stream",
     "text": [
      " 40%|████      | 70024/173544 [07:38<11:18, 152.60it/s]"
     ]
    },
    {
     "name": "stdout",
     "output_type": "stream",
     "text": [
      "27.05991751422974\n",
      "\t ngerg\n",
      "\t herderen\n",
      "\t uitariel\n",
      "\t sterting\n",
      "\t f<BOS>erden\n",
      "\t teringer\n",
      "\t storrechtigre\n",
      "\t urtier\n",
      "\t perins\n",
      "\t mewing\n"
     ]
    },
    {
     "name": "stderr",
     "output_type": "stream",
     "text": [
      " 43%|████▎     | 75013/173544 [08:12<11:37, 141.34it/s]"
     ]
    },
    {
     "name": "stdout",
     "output_type": "stream",
     "text": [
      "26.98968361865349\n",
      "\t terender\n",
      "\t ondink\n",
      "\t naars4ar\n",
      "\t pelander\n",
      "\t londercons\n",
      "\t raastet\n",
      "\t mugweld\n",
      "\t kerdgeg\n",
      "\t anerant\n",
      "\t texespaar\n"
     ]
    },
    {
     "name": "stderr",
     "output_type": "stream",
     "text": [
      " 46%|████▌     | 80011/173544 [08:45<12:21, 126.17it/s]"
     ]
    },
    {
     "name": "stdout",
     "output_type": "stream",
     "text": [
      "26.919624924416837\n",
      "\t scheenterder\n",
      "\t schelen\n",
      "\t foydebestuidne\n",
      "\t qeren\n",
      "\t rijderaaterd\n",
      "\t manderen\n",
      "\t kerdestoeberen\n",
      "\t lierneeran\n",
      "\t olzender\n",
      "\t finieren\n"
     ]
    },
    {
     "name": "stderr",
     "output_type": "stream",
     "text": [
      " 49%|████▉     | 85013/173544 [09:18<10:14, 143.99it/s]"
     ]
    },
    {
     "name": "stdout",
     "output_type": "stream",
     "text": [
      "26.855343192889762\n",
      "\t qerisheig\n",
      "\t scortinp\n",
      "\t hoodenoor\n",
      "\t laatsfiek\n",
      "\t raanderuits\n",
      "\t ondeling\n",
      "\t raken\n",
      "\t teringen\n",
      "\t sparinier\n",
      "\t laatsyling\n"
     ]
    },
    {
     "name": "stderr",
     "output_type": "stream",
     "text": [
      " 52%|█████▏    | 90021/173544 [09:50<09:47, 142.16it/s]"
     ]
    },
    {
     "name": "stdout",
     "output_type": "stream",
     "text": [
      "26.7931552413151\n",
      "\t keref\n",
      "\t hoodenker\n",
      "\t ongenfer\n",
      "\t fuijem\n",
      "\t forisibeer\n",
      "\t toesgen\n",
      "\t laansjan\n",
      "\t farnenon\n",
      "\t meingen\n",
      "\t hoodelonnen\n"
     ]
    },
    {
     "name": "stderr",
     "output_type": "stream",
     "text": [
      " 55%|█████▍    | 95021/173544 [10:24<08:58, 145.90it/s]"
     ]
    },
    {
     "name": "stdout",
     "output_type": "stream",
     "text": [
      "26.728369892102172\n",
      "\t lobongelijk-\n",
      "\t uiteranten\n",
      "\t teurtel\n",
      "\t ongeraat\n",
      "\t teramenaaz\n",
      "\t mani<BOS>aling\n",
      "\t umentering\n",
      "\t antelanes\n",
      "\t manstoppen\n",
      "\t sperteningteos\n"
     ]
    },
    {
     "name": "stderr",
     "output_type": "stream",
     "text": [
      " 58%|█████▊    | 100022/173544 [10:56<08:52, 138.06it/s]"
     ]
    },
    {
     "name": "stdout",
     "output_type": "stream",
     "text": [
      "26.663264012944467\n",
      "\t schoontaar\n",
      "\t laa-staar\n",
      "\t rijke\n",
      "\t onderen\n",
      "\t naatser\n",
      "\t kerenderda\n",
      "\t mangenoop\n",
      "\t perenker\n",
      "\t qeren\n",
      "\t qeren\n"
     ]
    },
    {
     "name": "stderr",
     "output_type": "stream",
     "text": [
      " 61%|██████    | 105012/173544 [11:30<09:24, 121.42it/s]"
     ]
    },
    {
     "name": "stdout",
     "output_type": "stream",
     "text": [
      "26.605216554846574\n",
      "\t leschap\n",
      "\t filzetten\n",
      "\t schoppen\n",
      "\t peerseren\n",
      "\t uiteren\n",
      "\t perteren\n",
      "\t uiterelen\n",
      "\t mantraat\n",
      "\t kerenteren\n",
      "\t noorschamen\n"
     ]
    },
    {
     "name": "stderr",
     "output_type": "stream",
     "text": [
      " 63%|██████▎   | 110020/173544 [12:02<07:07, 148.53it/s]"
     ]
    },
    {
     "name": "stdout",
     "output_type": "stream",
     "text": [
      "26.551507320008188\n",
      "\t onziekgezek\n",
      "\t uiter\n",
      "\t pouten\n",
      "\t argenieren\n",
      "\t onderschop\n",
      "\t uiter\n",
      "\t rijdel\n",
      "\t ritielder\n",
      "\t lieder\n",
      "\t koopper\n"
     ]
    },
    {
     "name": "stderr",
     "output_type": "stream",
     "text": [
      " 66%|██████▋   | 115028/173544 [12:35<06:17, 155.06it/s]"
     ]
    },
    {
     "name": "stdout",
     "output_type": "stream",
     "text": [
      "26.499092074037392\n",
      "\t naarsaar\n",
      "\t hoorderan\n",
      "\t horderank\n",
      "\t rijsteren\n",
      "\t hookstaan\n",
      "\t land\n",
      "\t naarsscanooren\n",
      "\t rijstere\n",
      "\t angewost\n",
      "\t forussteren\n"
     ]
    },
    {
     "name": "stderr",
     "output_type": "stream",
     "text": [
      " 69%|██████▉   | 120012/173544 [13:08<06:27, 138.30it/s]"
     ]
    },
    {
     "name": "stdout",
     "output_type": "stream",
     "text": [
      "26.462364531050923\n",
      "\t onderswerden\n",
      "\t perponter\n",
      "\t spertanisme\n",
      "\t onderscheid\n",
      "\t naanster\n",
      "\t foringeringker\n",
      "\t heisteren\n",
      "\t keringing\n",
      "\t mindersen\n",
      "\t anterje\n"
     ]
    },
    {
     "name": "stderr",
     "output_type": "stream",
     "text": [
      " 72%|███████▏  | 125015/173544 [13:41<05:40, 142.64it/s]"
     ]
    },
    {
     "name": "stdout",
     "output_type": "stream",
     "text": [
      "26.420593084684864\n",
      "\t foron\n",
      "\t prongermak\n",
      "\t roodschep\n",
      "\t lochtronver\n",
      "\t neersterd\n",
      "\t loodzenden\n",
      "\t toofschap\n",
      "\t strekenheid\n",
      "\t lo tering\n",
      "\t pootshomen\n"
     ]
    },
    {
     "name": "stderr",
     "output_type": "stream",
     "text": [
      " 75%|███████▍  | 130020/173544 [14:14<04:54, 148.03it/s]"
     ]
    },
    {
     "name": "stdout",
     "output_type": "stream",
     "text": [
      "26.37687780499107\n",
      "\t pertenip\n",
      "\t oppers\n",
      "\t mayter\n",
      "\t leergelenden\n",
      "\t roedenenonden\n",
      "\t perden\n",
      "\t manneres\n",
      "\t uiten\n",
      "\t hoiding\n",
      "\t mengeveren\n"
     ]
    },
    {
     "name": "stderr",
     "output_type": "stream",
     "text": [
      " 78%|███████▊  | 135014/173544 [14:47<05:00, 128.24it/s]"
     ]
    },
    {
     "name": "stdout",
     "output_type": "stream",
     "text": [
      "26.33862133960872\n",
      "\t neerster\n",
      "\t kerenter\n",
      "\t steren\n",
      "\t untermaal\n",
      "\t fienen\n",
      "\t fuwerling\n",
      "\t nelen\n",
      "\t opderen\n",
      "\t onsterder\n",
      "\t uitporing\n"
     ]
    },
    {
     "name": "stderr",
     "output_type": "stream",
     "text": [
      " 81%|████████  | 140022/173544 [15:19<03:31, 158.33it/s]"
     ]
    },
    {
     "name": "stdout",
     "output_type": "stream",
     "text": [
      "26.292612373987694\n",
      "\t heisteren\n",
      "\t qerken\n",
      "\t fefierpelt\n",
      "\t qechter\n",
      "\t orschap\n",
      "\t urtinchtiel\n",
      "\t laarschap\n",
      "\t mang\n",
      "\t malatie\n",
      "\t qeren\n"
     ]
    },
    {
     "name": "stderr",
     "output_type": "stream",
     "text": [
      " 84%|████████▎ | 145021/173544 [15:51<03:09, 150.35it/s]"
     ]
    },
    {
     "name": "stdout",
     "output_type": "stream",
     "text": [
      "26.24816909008784\n",
      "\t keranter\n",
      "\t teetreneling\n",
      "\t keren\n",
      "\t lageker\n",
      "\t rgeren\n",
      "\t mandeleningechatie\n",
      "\t terberen\n",
      "\t sterperen\n",
      "\t onterscheuren\n",
      "\t onfla\n"
     ]
    },
    {
     "name": "stderr",
     "output_type": "stream",
     "text": [
      " 86%|████████▋ | 150021/173544 [16:23<02:29, 157.36it/s]"
     ]
    },
    {
     "name": "stdout",
     "output_type": "stream",
     "text": [
      "26.20859155314189\n",
      "\t pruidheid\n",
      "\t straazwijen\n",
      "\t ondialzoer\n",
      "\t manxerter\n",
      "\t foringe\n",
      "\t onverkoeder\n",
      "\t herperan\n",
      "\t kangel\n",
      "\t fingen\n",
      "\t loeren\n"
     ]
    },
    {
     "name": "stderr",
     "output_type": "stream",
     "text": [
      " 89%|████████▉ | 155027/173544 [16:56<01:56, 159.45it/s]"
     ]
    },
    {
     "name": "stdout",
     "output_type": "stream",
     "text": [
      "26.16711741302434\n",
      "\t meringen\n",
      "\t hoodschop\n",
      "\t foeren\n",
      "\t qeringen\n",
      "\t keplen\n",
      "\t kerin\n",
      "\t keriling\n",
      "\t onterenster\n",
      "\t ontarus\n",
      "\t manderlandreg\n"
     ]
    },
    {
     "name": "stderr",
     "output_type": "stream",
     "text": [
      " 92%|█████████▏| 160023/173544 [17:28<01:34, 143.04it/s]"
     ]
    },
    {
     "name": "stdout",
     "output_type": "stream",
     "text": [
      "26.133270765605726\n",
      "\t schaproge\n",
      "\t froedennig\n",
      "\t fopen\n",
      "\t onderscerper\n",
      "\t ronden\n",
      "\t luoteerdun\n",
      "\t tengen\n",
      "\t noeten\n",
      "\t sterden\n",
      "\t terengekenheir\n"
     ]
    },
    {
     "name": "stderr",
     "output_type": "stream",
     "text": [
      " 95%|█████████▌| 165011/173544 [18:00<01:02, 137.29it/s]"
     ]
    },
    {
     "name": "stdout",
     "output_type": "stream",
     "text": [
      "26.092784175302096\n",
      "\t uiterschamping\n",
      "\t kuis\n",
      "\t herder\n",
      "\t stering\n",
      "\t kelnester\n",
      "\t terestont\n",
      "\t monnneren\n",
      "\t fonderschap\n",
      "\t kersoer\n",
      "\t taanschap\n"
     ]
    },
    {
     "name": "stderr",
     "output_type": "stream",
     "text": [
      " 98%|█████████▊| 170024/173544 [18:34<00:25, 137.29it/s]"
     ]
    },
    {
     "name": "stdout",
     "output_type": "stream",
     "text": [
      "26.058223791767965\n",
      "\t lammender\n",
      "\t termanisver\n",
      "\t uiterbergheer\n",
      "\t nichter\n",
      "\t lachter\n",
      "\t scheren\n",
      "\t hohting\n",
      "\t onderwaar\n",
      "\t tordering\n",
      "\t houster\n"
     ]
    },
    {
     "name": "stderr",
     "output_type": "stream",
     "text": [
      "100%|██████████| 173544/173544 [18:57<00:00, 152.61it/s]\n",
      "  0%|          | 17/173544 [00:00<17:50, 162.12it/s]"
     ]
    },
    {
     "name": "stdout",
     "output_type": "stream",
     "text": [
      "26.034079693085864\n",
      "\t ingester-stebruit\n",
      "\t uiterstereging\n",
      "\t kering\n",
      "\t uxtein\n",
      "\t vergerking\n",
      "\t beingenden\n",
      "\t derenter\n",
      "\t kering\n",
      "\t ant\n",
      "\t magen\n"
     ]
    },
    {
     "name": "stderr",
     "output_type": "stream",
     "text": [
      "  3%|▎         | 5016/173544 [00:32<19:05, 147.07it/s]"
     ]
    },
    {
     "name": "stdout",
     "output_type": "stream",
     "text": [
      "24.91021293534067\n",
      "\t umering\n",
      "\t finteerder\n",
      "\t lander\n",
      "\t monderschal\n",
      "\t ontersbewaar\n",
      "\t ontering\n",
      "\t finter\n",
      "\t perteren\n",
      "\t naarster\n",
      "\t herderderane\n"
     ]
    },
    {
     "name": "stderr",
     "output_type": "stream",
     "text": [
      "  6%|▌         | 10024/173544 [01:05<18:24, 148.00it/s]"
     ]
    },
    {
     "name": "stdout",
     "output_type": "stream",
     "text": [
      "24.944429791489892\n",
      "\t landerter\n",
      "\t anteronder\n",
      "\t herzoor\n",
      "\t terenderen\n",
      "\t sterenstergen\n",
      "\t keringen\n",
      "\t haldering\n",
      "\t heraziunatie\n",
      "\t roomen\n",
      "\t kerendeder\n"
     ]
    },
    {
     "name": "stderr",
     "output_type": "stream",
     "text": [
      "  9%|▊         | 15022/173544 [01:38<19:30, 135.42it/s]"
     ]
    },
    {
     "name": "stdout",
     "output_type": "stream",
     "text": [
      "24.91147272347911\n",
      "\t noorders\n",
      "\t landelrijk\n",
      "\t uitersten\n",
      "\t stakverig\n",
      "\t hoorder\n",
      "\t qandechal\n",
      "\t starkelen\n",
      "\t ke-pester\n",
      "\t hnijken\n",
      "\t uitstordel\n"
     ]
    },
    {
     "name": "stderr",
     "output_type": "stream",
     "text": [
      " 12%|█▏        | 20026/173544 [02:10<18:20, 139.44it/s]"
     ]
    },
    {
     "name": "stdout",
     "output_type": "stream",
     "text": [
      "24.88783631419425\n",
      "\t kermen\n",
      "\t qerewand\n",
      "\t manken\n",
      "\t uikberden\n",
      "\t kandebrang\n",
      "\t manzeerden\n",
      "\t sschour\n",
      "\t kerenter\n",
      "\t temenster\n",
      "\t uuren\n"
     ]
    },
    {
     "name": "stderr",
     "output_type": "stream",
     "text": [
      " 14%|█▍        | 25013/173544 [02:43<16:05, 153.85it/s]"
     ]
    },
    {
     "name": "stdout",
     "output_type": "stream",
     "text": [
      "24.855875793640756\n",
      "\t roodewelen\n",
      "\t stegen\n",
      "\t hoorten\n",
      "\t kperken\n",
      "\t ultaar\n",
      "\t uraver\n",
      "\t tijren\n",
      "\t koopproem\n",
      "\t noorder\n",
      "\t aarster\n"
     ]
    },
    {
     "name": "stderr",
     "output_type": "stream",
     "text": [
      " 17%|█▋        | 30016/173544 [03:16<16:33, 144.45it/s]"
     ]
    },
    {
     "name": "stdout",
     "output_type": "stream",
     "text": [
      "24.84315429609169\n",
      "\t maarst\n",
      "\t uiten\n",
      "\t neteren\n",
      "\t tieriens\n",
      "\t unteren\n",
      "\t kermuilening\n",
      "\t testeren\n",
      "\t fereeronder\n",
      "\t uitstel\n",
      "\t hoordeïen\n"
     ]
    },
    {
     "name": "stderr",
     "output_type": "stream",
     "text": [
      " 20%|██        | 35015/173544 [03:48<16:24, 140.69it/s]"
     ]
    },
    {
     "name": "stdout",
     "output_type": "stream",
     "text": [
      "24.836939896150003\n",
      "\t angerschel\n",
      "\t kiener\n",
      "\t hoorsgeschen\n",
      "\t spaarsteerd\n",
      "\t terenstoren\n",
      "\t onbergen\n",
      "\t laarstaav\n",
      "\t stopponatie\n",
      "\t houwer\n",
      "\t lantwerken\n"
     ]
    },
    {
     "name": "stderr",
     "output_type": "stream",
     "text": [
      " 23%|██▎       | 40015/173544 [04:21<16:32, 134.54it/s]"
     ]
    },
    {
     "name": "stdout",
     "output_type": "stream",
     "text": [
      "24.82296283493227\n",
      "\t lester\n",
      "\t mante-liek\n",
      "\t ruitenaris\n",
      "\t livecher\n",
      "\t stersan\n",
      "\t pinten\n",
      "\t prontorij\n",
      "\t lesjer\n",
      "\t ruitter\n",
      "\t randel\n"
     ]
    },
    {
     "name": "stderr",
     "output_type": "stream",
     "text": [
      " 26%|██▌       | 45023/173544 [04:54<14:36, 146.67it/s]"
     ]
    },
    {
     "name": "stdout",
     "output_type": "stream",
     "text": [
      "24.810517252899572\n",
      "\t antersterp\n",
      "\t ant-lie\n",
      "\t porteren\n",
      "\t ulteremen\n",
      "\t landers\n",
      "\t ontoren\n",
      "\t reteren\n",
      "\t roorstelpers\n",
      "\t ruigeld\n",
      "\t qoortareidie\n"
     ]
    },
    {
     "name": "stderr",
     "output_type": "stream",
     "text": [
      " 29%|██▉       | 50025/173544 [05:26<14:07, 145.77it/s]"
     ]
    },
    {
     "name": "stdout",
     "output_type": "stream",
     "text": [
      "24.78506944282486\n",
      "\t onderwewen\n",
      "\t teren\n",
      "\t opselen\n",
      "\t neerster\n",
      "\t finter\n",
      "\t qeren\n",
      "\t reven\n",
      "\t perstepen\n",
      "\t fioforterraar\n",
      "\t finter\n"
     ]
    },
    {
     "name": "stderr",
     "output_type": "stream",
     "text": [
      " 32%|███▏      | 55011/173544 [05:58<13:55, 141.90it/s]"
     ]
    },
    {
     "name": "stdout",
     "output_type": "stream",
     "text": [
      "24.782296318836988\n",
      "\t naarsteer\n",
      "\t terendverkerer\n",
      "\t loeden\n",
      "\t naarten\n",
      "\t landen\n",
      "\t schuisen\n",
      "\t onderwerden\n",
      "\t aanteren\n",
      "\t kanken\n",
      "\t uitanter\n"
     ]
    },
    {
     "name": "stderr",
     "output_type": "stream",
     "text": [
      " 35%|███▍      | 60030/173544 [06:31<11:27, 165.12it/s]"
     ]
    },
    {
     "name": "stdout",
     "output_type": "stream",
     "text": [
      "24.762812997109116\n",
      "\t miztel\n",
      "\t loeder\n",
      "\t noerende\n",
      "\t qereerder\n",
      "\t nowerker\n",
      "\t reerstert\n",
      "\t qereren\n",
      "\t noereber\n",
      "\t resef\n",
      "\t loeder\n"
     ]
    },
    {
     "name": "stderr",
     "output_type": "stream",
     "text": [
      " 37%|███▋      | 65015/173544 [07:02<12:42, 142.36it/s]"
     ]
    },
    {
     "name": "stdout",
     "output_type": "stream",
     "text": [
      "24.744991953434322\n",
      "\t a<BOS>terpater\n",
      "\t neterstermen\n",
      "\t qerenhoor\n",
      "\t ukten\n",
      "\t neersteerd\n",
      "\t prolen\n",
      "\t rementuit\n",
      "\t pronterver\n",
      "\t qerenstijk\n",
      "\t steren\n"
     ]
    },
    {
     "name": "stderr",
     "output_type": "stream",
     "text": [
      " 40%|████      | 70011/173544 [07:34<13:38, 126.49it/s]"
     ]
    },
    {
     "name": "stdout",
     "output_type": "stream",
     "text": [
      "24.746079591412595\n",
      "\t anterreer\n",
      "\t landeronder\n",
      "\t kerster\n",
      "\t t'eronderbeer\n",
      "\t landerstaal\n",
      "\t hersmsten\n",
      "\t minisan\n",
      "\t partinger\n",
      "\t aandpen\n",
      "\t noordéroerachtig\n"
     ]
    },
    {
     "name": "stderr",
     "output_type": "stream",
     "text": [
      " 43%|████▎     | 75017/173544 [08:07<12:12, 134.51it/s]"
     ]
    },
    {
     "name": "stdout",
     "output_type": "stream",
     "text": [
      "24.733040995460446\n",
      "\t mandersterlijk\n",
      "\t natien\n",
      "\t recater\n",
      "\t mander\n",
      "\t findering\n",
      "\t uitracht\n",
      "\t lijdel\n",
      "\t uiter\n",
      "\t uitersschal\n",
      "\t karing\n"
     ]
    },
    {
     "name": "stderr",
     "output_type": "stream",
     "text": [
      " 46%|████▌     | 80015/173544 [08:39<10:20, 150.84it/s]"
     ]
    },
    {
     "name": "stdout",
     "output_type": "stream",
     "text": [
      "24.714618504879635\n",
      "\t heringen\n",
      "\t quuren\n",
      "\t sterenaar\n",
      "\t oogen\n",
      "\t ongeraaf\n",
      "\t perten\n",
      "\t landerer\n",
      "\t stien\n",
      "\t neepleerdschap\n",
      "\t aanderen\n"
     ]
    },
    {
     "name": "stderr",
     "output_type": "stream",
     "text": [
      " 49%|████▉     | 85016/173544 [09:11<10:11, 144.85it/s]"
     ]
    },
    {
     "name": "stdout",
     "output_type": "stream",
     "text": [
      "24.708124748595928\n",
      "\t anterster\n",
      "\t anttermenspaars\n",
      "\t qopleus\n",
      "\t loestelland\n",
      "\t kersterster\n",
      "\t antellar\n",
      "\t onterspellen\n",
      "\t kellen\n",
      "\t anger\n",
      "\t uitsteren\n"
     ]
    },
    {
     "name": "stderr",
     "output_type": "stream",
     "text": [
      " 52%|█████▏    | 90022/173544 [09:44<08:37, 161.35it/s]"
     ]
    },
    {
     "name": "stdout",
     "output_type": "stream",
     "text": [
      "24.696112201707077\n",
      "\t telen\n",
      "\t ontbaar\n",
      "\t anter\n",
      "\t uiterstel\n",
      "\t forterlijk\n",
      "\t hoestelen\n",
      "\t nolaar\n",
      "\t uiterstel\n",
      "\t stelen\n",
      "\t roxbeluiten\n"
     ]
    },
    {
     "name": "stderr",
     "output_type": "stream",
     "text": [
      " 55%|█████▍    | 95022/173544 [10:16<08:39, 151.25it/s]"
     ]
    },
    {
     "name": "stdout",
     "output_type": "stream",
     "text": [
      "24.68703472021122\n",
      "\t quiterder\n",
      "\t oorteren\n",
      "\t manster\n",
      "\t scheidenboodd\n",
      "\t laadstoon\n",
      "\t laadstof\n",
      "\t naal\n",
      "\t koorter\n",
      "\t mast\n",
      "\t terentien\n"
     ]
    },
    {
     "name": "stderr",
     "output_type": "stream",
     "text": [
      " 58%|█████▊    | 100026/173544 [10:48<08:21, 146.51it/s]"
     ]
    },
    {
     "name": "stdout",
     "output_type": "stream",
     "text": [
      "24.676564435264865\n",
      "\t ondmoorde\n",
      "\t panswoord\n",
      "\t ant'romatie\n",
      "\t panderster\n",
      "\t lander\n",
      "\t pantigeren\n",
      "\t pondersandur\n",
      "\t langen\n",
      "\t helden\n",
      "\t oppand\n"
     ]
    },
    {
     "name": "stderr",
     "output_type": "stream",
     "text": [
      " 61%|██████    | 105011/173544 [11:20<08:31, 133.89it/s]"
     ]
    },
    {
     "name": "stdout",
     "output_type": "stream",
     "text": [
      "24.666514651700588\n",
      "\t uitsteren\n",
      "\t looring\n",
      "\t monderster\n",
      "\t onterden\n",
      "\t qonding\n",
      "\t loorma\n",
      "\t uitstefling\n",
      "\t harsing\n",
      "\t landerster\n",
      "\t ronderstarting\n"
     ]
    },
    {
     "name": "stderr",
     "output_type": "stream",
     "text": [
      " 63%|██████▎   | 110018/173544 [11:53<07:17, 145.37it/s]"
     ]
    },
    {
     "name": "stdout",
     "output_type": "stream",
     "text": [
      "24.6524652077966\n",
      "\t stelen\n",
      "\t onderwerkerster\n",
      "\t karenkonder\n",
      "\t naberker\n",
      "\t onderwonden\n",
      "\t randerian\n",
      "\t ladering\n",
      "\t langon\n",
      "\t pontster\n",
      "\t twerkkoper\n"
     ]
    },
    {
     "name": "stderr",
     "output_type": "stream",
     "text": [
      " 66%|██████▋   | 115008/173544 [12:25<07:08, 136.55it/s]"
     ]
    },
    {
     "name": "stdout",
     "output_type": "stream",
     "text": [
      "24.645068423397788\n",
      "\t uitschopen\n",
      "\t steerster\n",
      "\t sterten\n",
      "\t scherman\n",
      "\t streerster\n",
      "\t tieren\n",
      "\t ongenijk\n",
      "\t ni'sen\n",
      "\t kerkeling\n",
      "\t hansteur\n"
     ]
    },
    {
     "name": "stderr",
     "output_type": "stream",
     "text": [
      " 69%|██████▉   | 120016/173544 [12:59<06:53, 129.40it/s]"
     ]
    },
    {
     "name": "stdout",
     "output_type": "stream",
     "text": [
      "24.6430165076707\n",
      "\t handelverkleiding\n",
      "\t antiet\n",
      "\t uister\n",
      "\t antiezensstek\n",
      "\t herdenboor\n",
      "\t qonde-belen\n",
      "\t lieken\n",
      "\t onters\n",
      "\t tekuisterp\n",
      "\t manding\n"
     ]
    },
    {
     "name": "stderr",
     "output_type": "stream",
     "text": [
      " 72%|███████▏  | 125010/173544 [13:31<05:38, 143.45it/s]"
     ]
    },
    {
     "name": "stdout",
     "output_type": "stream",
     "text": [
      "24.633821625786936\n",
      "\t uiters\n",
      "\t uitster\n",
      "\t herberd\n",
      "\t terogester\n",
      "\t uitdering\n",
      "\t proeus\n",
      "\t terendesten\n",
      "\t maarter\n",
      "\t feren\n",
      "\t herders\n"
     ]
    },
    {
     "name": "stderr",
     "output_type": "stream",
     "text": [
      " 75%|███████▍  | 130014/173544 [14:04<05:38, 128.63it/s]"
     ]
    },
    {
     "name": "stdout",
     "output_type": "stream",
     "text": [
      "24.621286245572357\n",
      "\t toesterre\n",
      "\t tereerland\n",
      "\t onderschien\n",
      "\t mans\n",
      "\t ropster\n",
      "\t uitsterf\n",
      "\t mafislo\n",
      "\t token\n",
      "\t namerster\n",
      "\t noerder\n"
     ]
    },
    {
     "name": "stderr",
     "output_type": "stream",
     "text": [
      " 78%|███████▊  | 135019/173544 [14:36<04:39, 137.81it/s]"
     ]
    },
    {
     "name": "stdout",
     "output_type": "stream",
     "text": [
      "24.60578500442234\n",
      "\t lijken\n",
      "\t manderen\n",
      "\t mester\n",
      "\t maline\n",
      "\t neenfood\n",
      "\t anteren\n",
      "\t tebberen\n",
      "\t kerkhood\n",
      "\t aterbedeid\n",
      "\t manderensantaar\n"
     ]
    },
    {
     "name": "stderr",
     "output_type": "stream",
     "text": [
      " 81%|████████  | 140014/173544 [15:08<03:41, 151.48it/s]"
     ]
    },
    {
     "name": "stdout",
     "output_type": "stream",
     "text": [
      "24.594835115370245\n",
      "\t onwerken\n",
      "\t lieken\n",
      "\t kaak\n",
      "\t kaaponder\n",
      "\t qecker\n",
      "\t quisme\n",
      "\t onderken\n",
      "\t paaïster\n",
      "\t stien\n",
      "\t kaanstengen\n"
     ]
    },
    {
     "name": "stderr",
     "output_type": "stream",
     "text": [
      " 84%|████████▎ | 145025/173544 [15:42<03:17, 144.11it/s]"
     ]
    },
    {
     "name": "stdout",
     "output_type": "stream",
     "text": [
      "24.585971921605694\n",
      "\t stetring\n",
      "\t finder\n",
      "\t qerengestemen\n",
      "\t uiter\n",
      "\t aandaar\n",
      "\t angeland\n",
      "\t steehtij\n",
      "\t teren\n",
      "\t stevelmaneur\n",
      "\t nasts\n"
     ]
    },
    {
     "name": "stderr",
     "output_type": "stream",
     "text": [
      " 86%|████████▋ | 150022/173544 [16:14<02:24, 162.57it/s]"
     ]
    },
    {
     "name": "stdout",
     "output_type": "stream",
     "text": [
      "24.581654524675844\n",
      "\t uitsto\n",
      "\t partieer\n",
      "\t nelen\n",
      "\t nepenvers\n",
      "\t niers\n",
      "\t neersen\n",
      "\t manitaar\n",
      "\t parther\n",
      "\t heroster\n",
      "\t kemanen\n"
     ]
    },
    {
     "name": "stderr",
     "output_type": "stream",
     "text": [
      " 89%|████████▉ | 155027/173544 [16:47<01:54, 162.03it/s]"
     ]
    },
    {
     "name": "stdout",
     "output_type": "stream",
     "text": [
      "24.57239421144813\n",
      "\t fieren\n",
      "\t reging\n",
      "\t pronaat\n",
      "\t uitergeren\n",
      "\t noeren\n",
      "\t protiliemestenaar\n",
      "\t pronde\n",
      "\t quis\n",
      "\t prantie-\n",
      "\t fieren\n"
     ]
    },
    {
     "name": "stderr",
     "output_type": "stream",
     "text": [
      " 92%|█████████▏| 160013/173544 [17:19<01:30, 148.85it/s]"
     ]
    },
    {
     "name": "stdout",
     "output_type": "stream",
     "text": [
      "24.561316512352366\n",
      "\t sterman\n",
      "\t qrensten\n",
      "\t stersteer\n",
      "\t reit\n",
      "\t sterden\n",
      "\t uitsender\n",
      "\t mesterveit\n",
      "\t quiten\n",
      "\t terenteren\n",
      "\t rijdengew\n"
     ]
    },
    {
     "name": "stderr",
     "output_type": "stream",
     "text": [
      " 95%|█████████▌| 165016/173544 [17:52<00:58, 146.34it/s]"
     ]
    },
    {
     "name": "stdout",
     "output_type": "stream",
     "text": [
      "24.550119105672497\n",
      "\t partie\n",
      "\t streken\n",
      "\t nier\n",
      "\t uwter\n",
      "\t tereolie\n",
      "\t mordzuid\n",
      "\t parter\n",
      "\t laat\n",
      "\t parzen\n",
      "\t matoet\n"
     ]
    },
    {
     "name": "stderr",
     "output_type": "stream",
     "text": [
      " 98%|█████████▊| 170021/173544 [18:25<00:26, 135.05it/s]"
     ]
    },
    {
     "name": "stdout",
     "output_type": "stream",
     "text": [
      "24.542367725629134\n",
      "\t aalstaar\n",
      "\t stjeist-\n",
      "\t stensondert\n",
      "\t natinchie\n",
      "\t mansonier\n",
      "\t herbelijk\n",
      "\t talissen\n",
      "\t urgen\n",
      "\t langematinger\n",
      "\t schrijf\n"
     ]
    },
    {
     "name": "stderr",
     "output_type": "stream",
     "text": [
      "100%|██████████| 173544/173544 [18:48<00:00, 153.72it/s]\n",
      "  0%|          | 17/173544 [00:00<17:02, 169.63it/s]"
     ]
    },
    {
     "name": "stdout",
     "output_type": "stream",
     "text": [
      "24.539182716394862\n",
      "\t onteiesonder\n",
      "\t zekker\n",
      "\t terensteren\n",
      "\t corzenteer\n",
      "\t wegening\n",
      "\t roodschap\n",
      "\t dernisco\n",
      "\t pronter\n",
      "\t aansmaan\n",
      "\t uuterstesver\n"
     ]
    },
    {
     "name": "stderr",
     "output_type": "stream",
     "text": [
      "  3%|▎         | 5016/173544 [00:31<18:22, 152.90it/s]"
     ]
    },
    {
     "name": "stdout",
     "output_type": "stream",
     "text": [
      "24.10982097180087\n",
      "\t regering\n",
      "\t manauis\n",
      "\t taalser\n",
      "\t kandelars\n",
      "\t quisunpel\n",
      "\t poffel\n",
      "\t kinderst\n",
      "\t foorzen\n",
      "\t uotgeïrideling\n",
      "\t fie-stor\n"
     ]
    },
    {
     "name": "stderr",
     "output_type": "stream",
     "text": [
      "  6%|▌         | 10024/173544 [01:04<17:29, 155.82it/s]"
     ]
    },
    {
     "name": "stdout",
     "output_type": "stream",
     "text": [
      "24.153647935155607\n",
      "\t hoorder\n",
      "\t loeden\n",
      "\t auters\n",
      "\t forterun\n",
      "\t qochting\n",
      "\t madersap\n",
      "\t nomen\n",
      "\t aanschopen\n",
      "\t loedensport\n",
      "\t noorderijk\n"
     ]
    },
    {
     "name": "stderr",
     "output_type": "stream",
     "text": [
      "  9%|▊         | 15016/173544 [01:37<18:35, 142.12it/s]"
     ]
    },
    {
     "name": "stdout",
     "output_type": "stream",
     "text": [
      "24.20064295205333\n",
      "\t quistecgeler\n",
      "\t quiter\n",
      "\t quiter\n",
      "\t naarschap\n",
      "\t uerderker\n",
      "\t ondenzorg\n",
      "\t onderkand\n",
      "\t troansder\n",
      "\t hooksboeg\n",
      "\t offelling\n"
     ]
    },
    {
     "name": "stderr",
     "output_type": "stream",
     "text": [
      " 12%|█▏        | 20016/173544 [02:10<17:44, 144.18it/s]"
     ]
    },
    {
     "name": "stdout",
     "output_type": "stream",
     "text": [
      "24.171748016350172\n",
      "\t stertland\n",
      "\t minderstaar\n",
      "\t onterdander\n",
      "\t steeren\n",
      "\t stermers\n",
      "\t herderker\n",
      "\t neesje\n",
      "\t neerderaar\n",
      "\t pruiten\n",
      "\t kanterteer\n"
     ]
    },
    {
     "name": "stderr",
     "output_type": "stream",
     "text": [
      " 14%|█▍        | 25011/173544 [02:43<20:04, 123.36it/s]"
     ]
    },
    {
     "name": "stdout",
     "output_type": "stream",
     "text": [
      "24.174644784520325\n",
      "\t steersteerd\n",
      "\t langenier\n",
      "\t proerderen\n",
      "\t rangeloord\n",
      "\t kteren\n",
      "\t manien\n",
      "\t uordering\n",
      "\t proetsterens\n",
      "\t toeren\n",
      "\t qooverstant\n"
     ]
    },
    {
     "name": "stderr",
     "output_type": "stream",
     "text": [
      " 17%|█▋        | 30015/173544 [03:15<17:44, 134.81it/s]"
     ]
    },
    {
     "name": "stdout",
     "output_type": "stream",
     "text": [
      "24.18188532468752\n",
      "\t landen\n",
      "\t lakken\n",
      "\t naalantsel\n",
      "\t falije\n",
      "\t forkende\n",
      "\t hoodenscheu\n",
      "\t porten\n",
      "\t manden\n",
      "\t quisen\n",
      "\t quinen\n"
     ]
    },
    {
     "name": "stderr",
     "output_type": "stream",
     "text": [
      " 20%|██        | 35023/173544 [03:48<17:39, 130.69it/s]"
     ]
    },
    {
     "name": "stdout",
     "output_type": "stream",
     "text": [
      "24.16013967447606\n",
      "\t arterster\n",
      "\t quber\n",
      "\t hoorster\n",
      "\t uitstering\n",
      "\t onterdenkerd\n",
      "\t rijnsty\n",
      "\t maarster\n",
      "\t mering\n",
      "\t uitstblee\n",
      "\t uitsngeres\n"
     ]
    },
    {
     "name": "stderr",
     "output_type": "stream",
     "text": [
      " 23%|██▎       | 40022/173544 [04:21<15:38, 142.23it/s]"
     ]
    },
    {
     "name": "stdout",
     "output_type": "stream",
     "text": [
      "24.172696019742528\n",
      "\t allingen\n",
      "\t allink\n",
      "\t marie\n",
      "\t uinderken\n",
      "\t ontsteran\n",
      "\t nieren\n",
      "\t qungeree\n",
      "\t lieren\n",
      "\t ronderschap\n",
      "\t ouwderen\n"
     ]
    },
    {
     "name": "stderr",
     "output_type": "stream",
     "text": [
      " 26%|██▌       | 45012/173544 [04:54<15:47, 135.64it/s]"
     ]
    },
    {
     "name": "stdout",
     "output_type": "stream",
     "text": [
      "24.17641823550177\n",
      "\t transen\n",
      "\t frostering\n",
      "\t mansteren\n",
      "\t toringeraar\n",
      "\t loogtra\n",
      "\t rijdeverden\n",
      "\t kverteringman\n",
      "\t korters\n",
      "\t nijstanden\n",
      "\t prijdag\n"
     ]
    },
    {
     "name": "stderr",
     "output_type": "stream",
     "text": [
      " 29%|██▉       | 50018/173544 [05:26<12:22, 166.29it/s]"
     ]
    },
    {
     "name": "stdout",
     "output_type": "stream",
     "text": [
      "24.16901583776381\n",
      "\t roondag\n",
      "\t heeden\n",
      "\t preer\n",
      "\t noeren\n",
      "\t uikkenden\n",
      "\t anteren\n",
      "\t uitstell\n",
      "\t staal\n",
      "\t ondergeneerd\n",
      "\t koorder\n"
     ]
    },
    {
     "name": "stderr",
     "output_type": "stream",
     "text": [
      " 32%|███▏      | 55021/173544 [05:58<12:27, 158.57it/s]"
     ]
    },
    {
     "name": "stdout",
     "output_type": "stream",
     "text": [
      "24.156433947370406\n",
      "\t onderster\n",
      "\t neren\n",
      "\t mandinisch\n",
      "\t schampon\n",
      "\t ruizen\n",
      "\t teruèter\n",
      "\t kamer\n",
      "\t qussen\n",
      "\t artongerenen\n",
      "\t onterenderp\n"
     ]
    },
    {
     "name": "stderr",
     "output_type": "stream",
     "text": [
      " 35%|███▍      | 60024/173544 [06:30<12:56, 146.16it/s]"
     ]
    },
    {
     "name": "stdout",
     "output_type": "stream",
     "text": [
      "24.15643373155048\n",
      "\t quitesben\n",
      "\t aanding\n",
      "\t quitenster\n",
      "\t landen\n",
      "\t rijken\n",
      "\t landen\n",
      "\t monderster\n",
      "\t terepneerd\n",
      "\t karibemen\n",
      "\t aanstein\n"
     ]
    },
    {
     "name": "stderr",
     "output_type": "stream",
     "text": [
      " 37%|███▋      | 65012/173544 [07:03<13:49, 130.90it/s]"
     ]
    },
    {
     "name": "stdout",
     "output_type": "stream",
     "text": [
      "24.154065540716147\n",
      "\t roonond\n",
      "\t malistisch\n",
      "\t teffeland\n",
      "\t opbeleik\n",
      "\t maan\n",
      "\t finderen\n",
      "\t neerschappel\n",
      "\t rost-ans\n",
      "\t schapter\n",
      "\t konpelijk\n"
     ]
    },
    {
     "name": "stderr",
     "output_type": "stream",
     "text": [
      " 40%|████      | 70026/173544 [07:35<11:18, 152.57it/s]"
     ]
    },
    {
     "name": "stdout",
     "output_type": "stream",
     "text": [
      "24.14976284126174\n",
      "\t hersten\n",
      "\t strander\n",
      "\t rechter\n",
      "\t herbelind\n",
      "\t portertie\n",
      "\t pronter\n",
      "\t qultras\n",
      "\t trententerver\n",
      "\t lijdig\n",
      "\t loorder\n"
     ]
    },
    {
     "name": "stderr",
     "output_type": "stream",
     "text": [
      " 43%|████▎     | 75011/173544 [08:08<13:15, 123.91it/s]"
     ]
    },
    {
     "name": "stdout",
     "output_type": "stream",
     "text": [
      "24.145881590359174\n",
      "\t hoorvergend\n",
      "\t schoombeweerd\n",
      "\t s-bengetening\n",
      "\t koorten\n",
      "\t koorster\n",
      "\t manisuiden\n",
      "\t uldersten\n",
      "\t leerakens\n",
      "\t mondersnes\n",
      "\t schuitenster\n"
     ]
    },
    {
     "name": "stderr",
     "output_type": "stream",
     "text": [
      " 46%|████▌     | 80014/173544 [08:41<11:14, 138.57it/s]"
     ]
    },
    {
     "name": "stdout",
     "output_type": "stream",
     "text": [
      "24.139340470314895\n",
      "\t uitregen\n",
      "\t aan\n",
      "\t quiterer\n",
      "\t tersterand\n",
      "\t sterter\n",
      "\t terver\n",
      "\t recudant\n",
      "\t rerens-oidering\n",
      "\t fachtersaar\n",
      "\t qroelen\n"
     ]
    },
    {
     "name": "stderr",
     "output_type": "stream",
     "text": [
      " 49%|████▉     | 85012/173544 [09:14<10:19, 142.99it/s]"
     ]
    },
    {
     "name": "stdout",
     "output_type": "stream",
     "text": [
      "24.13770209796137\n",
      "\t onderbededen\n",
      "\t recter\n",
      "\t hoorderpaar\n",
      "\t mandelijk\n",
      "\t looververgend\n",
      "\t fortere\n",
      "\t todering\n",
      "\t fleerder\n",
      "\t loorderingspad\n",
      "\t oorchofeur\n"
     ]
    },
    {
     "name": "stderr",
     "output_type": "stream",
     "text": [
      " 52%|█████▏    | 90017/173544 [09:47<09:20, 149.11it/s]"
     ]
    },
    {
     "name": "stdout",
     "output_type": "stream",
     "text": [
      "24.132631817049877\n",
      "\t pemensteid\n",
      "\t naarander\n",
      "\t tebeling\n",
      "\t meren\n",
      "\t pronien\n",
      "\t terengelen\n",
      "\t forteren\n",
      "\t herschijf\n",
      "\t onteren\n",
      "\t toringejen\n"
     ]
    },
    {
     "name": "stderr",
     "output_type": "stream",
     "text": [
      " 55%|█████▍    | 95024/173544 [10:19<08:25, 155.42it/s]"
     ]
    },
    {
     "name": "stdout",
     "output_type": "stream",
     "text": [
      "24.124454061905134\n",
      "\t hoor\n",
      "\t terenteren\n",
      "\t procodering\n",
      "\t terevelen\n",
      "\t scerongen\n",
      "\t neers\n",
      "\t karien\n",
      "\t kranten\n",
      "\t quite\n",
      "\t hoordverbederin\n"
     ]
    },
    {
     "name": "stderr",
     "output_type": "stream",
     "text": [
      " 58%|█████▊    | 100016/173544 [10:52<08:57, 136.91it/s]"
     ]
    },
    {
     "name": "stdout",
     "output_type": "stream",
     "text": [
      "24.11338556019189\n",
      "\t poorning\n",
      "\t noorder\n",
      "\t quisleer\n",
      "\t poenenraat\n",
      "\t uitstering\n",
      "\t streekster\n",
      "\t aander\n",
      "\t onderwaart\n",
      "\t hoorters\n",
      "\t neeerde\n"
     ]
    },
    {
     "name": "stderr",
     "output_type": "stream",
     "text": [
      " 61%|██████    | 105014/173544 [11:25<08:29, 134.47it/s]"
     ]
    },
    {
     "name": "stdout",
     "output_type": "stream",
     "text": [
      "24.109256725438254\n",
      "\t ondermanden\n",
      "\t neerstering\n",
      "\t persten\n",
      "\t uitgeneerd\n",
      "\t quister\n",
      "\t finteren\n",
      "\t quis-aan\n",
      "\t lingstever\n",
      "\t langeman\n",
      "\t langen\n"
     ]
    },
    {
     "name": "stderr",
     "output_type": "stream",
     "text": [
      " 63%|██████▎   | 110017/173544 [11:58<08:35, 123.34it/s]"
     ]
    },
    {
     "name": "stdout",
     "output_type": "stream",
     "text": [
      "24.09633738517822\n",
      "\t ondergan\n",
      "\t uitkenkel\n",
      "\t loonster\n",
      "\t loonsmerken\n",
      "\t aadschap\n",
      "\t rechterparing\n",
      "\t quisen\n",
      "\t fiendhoiden\n",
      "\t minnen\n",
      "\t fichiecontiën\n"
     ]
    },
    {
     "name": "stderr",
     "output_type": "stream",
     "text": [
      " 66%|██████▋   | 115018/173544 [12:31<07:42, 126.62it/s]"
     ]
    },
    {
     "name": "stdout",
     "output_type": "stream",
     "text": [
      "24.0898900324824\n",
      "\t opsteren\n",
      "\t steren\n",
      "\t loogen\n",
      "\t planterunteren\n",
      "\t uitgekreid\n",
      "\t koppen\n",
      "\t onderkokking\n",
      "\t kop\n",
      "\t qoeret\n",
      "\t honden\n"
     ]
    },
    {
     "name": "stderr",
     "output_type": "stream",
     "text": [
      " 69%|██████▉   | 120025/173544 [13:03<06:10, 144.40it/s]"
     ]
    },
    {
     "name": "stdout",
     "output_type": "stream",
     "text": [
      "24.089905190884476\n",
      "\t loord\n",
      "\t hoodbijspan\n",
      "\t roorder\n",
      "\t heffelsstaad\n",
      "\t meersteerd\n",
      "\t roorderde\n",
      "\t koorder\n",
      "\t loorderen\n",
      "\t prosten\n",
      "\t prijs\n"
     ]
    },
    {
     "name": "stderr",
     "output_type": "stream",
     "text": [
      " 72%|███████▏  | 125025/173544 [13:35<05:39, 142.74it/s]"
     ]
    },
    {
     "name": "stdout",
     "output_type": "stream",
     "text": [
      "24.08083321690957\n",
      "\t uitsteren\n",
      "\t properatie\n",
      "\t oedenstbeleid\n",
      "\t panteregering\n",
      "\t renteraar\n",
      "\t ketpering\n",
      "\t steren\n",
      "\t ringerinster\n",
      "\t forminere\n",
      "\t pretekel\n"
     ]
    },
    {
     "name": "stderr",
     "output_type": "stream",
     "text": [
      " 75%|███████▍  | 130012/173544 [14:08<05:22, 135.19it/s]"
     ]
    },
    {
     "name": "stdout",
     "output_type": "stream",
     "text": [
      "24.083849478366197\n",
      "\t onderster\n",
      "\t uitster\n",
      "\t pietaap\n",
      "\t aadsteren\n",
      "\t malanter\n",
      "\t sterrinberen\n",
      "\t kakenvertelier\n",
      "\t sakenstater\n",
      "\t rechtsbedrijf\n",
      "\t forteren\n"
     ]
    },
    {
     "name": "stderr",
     "output_type": "stream",
     "text": [
      " 78%|███████▊  | 135015/173544 [14:40<04:28, 143.55it/s]"
     ]
    },
    {
     "name": "stdout",
     "output_type": "stream",
     "text": [
      "24.08136586870474\n",
      "\t aansteren\n",
      "\t londersmanver\n",
      "\t sterken\n",
      "\t manrifisch\n",
      "\t onterplant\n",
      "\t torland\n",
      "\t nsveren\n",
      "\t ronder\n",
      "\t loster\n",
      "\t korten\n"
     ]
    },
    {
     "name": "stderr",
     "output_type": "stream",
     "text": [
      " 81%|████████  | 140014/173544 [15:13<04:00, 139.44it/s]"
     ]
    },
    {
     "name": "stdout",
     "output_type": "stream",
     "text": [
      "24.078924303457605\n",
      "\t aansteren\n",
      "\t quitersstot\n",
      "\t onterenderd\n",
      "\t reganise\n",
      "\t terenso\n",
      "\t lapperster\n",
      "\t manderijk\n",
      "\t taansteren\n",
      "\t kerster\n",
      "\t reges\n"
     ]
    },
    {
     "name": "stderr",
     "output_type": "stream",
     "text": [
      " 84%|████████▎ | 145014/173544 [15:47<03:28, 136.88it/s]"
     ]
    },
    {
     "name": "stdout",
     "output_type": "stream",
     "text": [
      "24.08130452467802\n",
      "\t terlenen\n",
      "\t nisje\n",
      "\t terugster\n",
      "\t forvers\n",
      "\t quifing\n",
      "\t uurstedem-\n",
      "\t roorman\n",
      "\t uitspanten\n",
      "\t appie\n",
      "\t uitste\n"
     ]
    },
    {
     "name": "stderr",
     "output_type": "stream",
     "text": [
      " 86%|████████▋ | 150011/173544 [16:19<02:37, 149.17it/s]"
     ]
    },
    {
     "name": "stdout",
     "output_type": "stream",
     "text": [
      "24.070227752400307\n",
      "\t maarstorden\n",
      "\t onderdeel\n",
      "\t loederbaar\n",
      "\t naarsterf\n",
      "\t fieken\n",
      "\t sterester\n",
      "\t koorhour\n",
      "\t kortstelen\n",
      "\t korder\n",
      "\t hezenbelegen\n"
     ]
    },
    {
     "name": "stderr",
     "output_type": "stream",
     "text": [
      " 89%|████████▉ | 155012/173544 [16:51<02:07, 144.83it/s]"
     ]
    },
    {
     "name": "stdout",
     "output_type": "stream",
     "text": [
      "24.070746055397624\n",
      "\t quiders\n",
      "\t uitschap\n",
      "\t afschrijf\n",
      "\t urters\n",
      "\t sttremine\n",
      "\t rechtster\n",
      "\t mesters\n",
      "\t naarman\n",
      "\t klanter\n",
      "\t terenstechtegensverbe\n"
     ]
    },
    {
     "name": "stderr",
     "output_type": "stream",
     "text": [
      " 92%|█████████▏| 160017/173544 [17:23<01:41, 133.07it/s]"
     ]
    },
    {
     "name": "stdout",
     "output_type": "stream",
     "text": [
      "24.063647244113522\n",
      "\t niderint\n",
      "\t onderpoord\n",
      "\t uitkerken\n",
      "\t rechterlocht\n",
      "\t lijdagen\n",
      "\t nier-uit\n",
      "\t kortalier\n",
      "\t prontaardaaring\n",
      "\t stampet\n",
      "\t manderaar\n"
     ]
    },
    {
     "name": "stderr",
     "output_type": "stream",
     "text": [
      " 95%|█████████▌| 165016/173544 [17:56<01:06, 128.42it/s]"
     ]
    },
    {
     "name": "stdout",
     "output_type": "stream",
     "text": [
      "24.06387729934463\n",
      "\t muitvergingen\n",
      "\t perantster\n",
      "\t kersing\n",
      "\t ongestald\n",
      "\t sonting\n",
      "\t aarterechter\n",
      "\t aanhoor\n",
      "\t onketers\n",
      "\t herstrant\n",
      "\t qwerken\n"
     ]
    },
    {
     "name": "stderr",
     "output_type": "stream",
     "text": [
      " 98%|█████████▊| 170027/173544 [18:30<00:25, 138.21it/s]"
     ]
    },
    {
     "name": "stdout",
     "output_type": "stream",
     "text": [
      "24.063488492609526\n",
      "\t niet-terening\n",
      "\t terensteren\n",
      "\t mandering\n",
      "\t terendrijkt\n",
      "\t nierant\n",
      "\t quiten\n",
      "\t finden\n",
      "\t parien\n",
      "\t steren\n",
      "\t aalsparting\n"
     ]
    },
    {
     "name": "stderr",
     "output_type": "stream",
     "text": [
      "100%|██████████| 173544/173544 [18:53<00:00, 153.08it/s]\n"
     ]
    },
    {
     "name": "stdout",
     "output_type": "stream",
     "text": [
      "24.060133851843982\n",
      "\t nenstem\n",
      "\t conterratie\n",
      "\t onderscheenneer\n",
      "\t mondygenes\n",
      "\t lesgetpechtering\n",
      "\t mistoring\n",
      "\t ferschen\n",
      "\t keonstonder\n",
      "\t bijnen\n",
      "\t gescherd\n"
     ]
    }
   ],
   "source": [
    "from app.ml_models.rnn.data_tools import WordLevelDataset\n",
    "from app.ml_models.rnn.rnn_model import RNNAnna\n",
    "from app.ml_models.rnn.train import train\n",
    "from torch.utils.data import DataLoader\n",
    "hi = WordLevelDataset('data/', 'dutch.txt')\n",
    "print(hi.vocabulary_size)\n",
    "hi_loader = DataLoader(hi, 1, shuffle=True)\n",
    "rnn = RNNAnna(hi.vocabulary_size, 128)\n",
    "rnn = rnn.to(device)\n",
    "\n",
    "# For straattaal I doubled the epochs as it wasn't converging in the plot from the prev. notebook\n",
    "# For Dutch woordenboek, TOO BIG, only 3 epochs\n",
    "train(rnn, hi_loader, hi, device=device, epochs=3, name='dutch',learning_rate=0.0001)"
   ]
  },
  {
   "cell_type": "code",
   "execution_count": null,
   "metadata": {},
   "outputs": [],
   "source": []
  }
 ],
 "metadata": {
  "kernelspec": {
   "display_name": "Python 3",
   "language": "python",
   "name": "python3"
  },
  "language_info": {
   "codemirror_mode": {
    "name": "ipython",
    "version": 3
   },
   "file_extension": ".py",
   "mimetype": "text/x-python",
   "name": "python",
   "nbconvert_exporter": "python",
   "pygments_lexer": "ipython3",
   "version": "3.8.5"
  }
 },
 "nbformat": 4,
 "nbformat_minor": 4
}
