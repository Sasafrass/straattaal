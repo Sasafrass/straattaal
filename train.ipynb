{
 "cells": [
  {
   "cell_type": "code",
   "execution_count": 1,
   "metadata": {},
   "outputs": [],
   "source": [
    "%load_ext autoreload\n",
    "%autoreload 2"
   ]
  },
  {
   "cell_type": "code",
   "execution_count": 2,
   "metadata": {},
   "outputs": [],
   "source": [
    "device = 'cuda'"
   ]
  },
  {
   "cell_type": "code",
   "execution_count": 10,
   "metadata": {},
   "outputs": [
    {
     "name": "stderr",
     "output_type": "stream",
     "text": [
      "  0%|          | 34/173544 [00:00<08:30, 339.89it/s]"
     ]
    },
    {
     "name": "stdout",
     "output_type": "stream",
     "text": [
      "Vocabulary [' ', \"'\", '-', '.', '0', '1', '2', '3', '4', '5', '6', '7', '8', '9', 'a', 'b', 'c', 'd', 'e', 'f', 'g', 'h', 'i', 'j', 'k', 'l', 'm', 'n', 'o', 'p', 'q', 'r', 's', 't', 'u', 'v', 'w', 'x', 'y', 'z', 'à', 'á', 'â', 'ä', 'ç', 'è', 'é', 'ê', 'ë', 'í', 'î', 'ï', 'ñ', 'ó', 'ô', 'ö', 'ú', 'û', 'ü', '<BOS>', '<EOS>']\n",
      "61\n",
      "\t kwwhúàywwwhywwwwwzwww\n",
      "\t aywwww'wögwgxúwwwwwww\n",
      "\t uúû5'wêjjwywwçyáw1wçy\n",
      "\t lyçy'wwwwwww<BOS>ywwwowww\n",
      "\t u6w.pnwäywwwwwwp ywíw\n",
      "\t uwwwwñtwwwwwwïywäwwww\n",
      "\t lywwwwwwwwwgcywwmzwww\n",
      "\t tykwfww<EOS>\n",
      "\t fwwww8bwwwwwwwwwwwwwñ\n",
      "\t mww'wwwwfwowwíwywwfww\n"
     ]
    },
    {
     "name": "stderr",
     "output_type": "stream",
     "text": [
      "  6%|▌         | 10193/173544 [00:09<02:28, 1099.51it/s]"
     ]
    },
    {
     "name": "stdout",
     "output_type": "stream",
     "text": [
      "\t kenpoûea<EOS>\n",
      "\t udes<EOS>\n",
      "\t fenan<EOS>\n",
      "\t leien<EOS>\n",
      "\t oenken<EOS>\n",
      "\t fur<EOS>\n",
      "\t fen<EOS>\n",
      "\t s<EOS>\n",
      "\t hen<EOS>\n",
      "\t uenhenphen<EOS>\n"
     ]
    },
    {
     "name": "stderr",
     "output_type": "stream",
     "text": [
      " 12%|█▏        | 20140/173544 [00:18<02:26, 1050.47it/s]"
     ]
    },
    {
     "name": "stdout",
     "output_type": "stream",
     "text": [
      "\t hen<EOS>\n",
      "\t an<EOS>\n",
      "\t uten<EOS>\n",
      "\t ken<EOS>\n",
      "\t on<EOS>\n",
      "\t qaber<EOS>\n",
      "\t r<EOS>\n",
      "\t korden<EOS>\n",
      "\t hterbeenin<EOS>\n",
      "\t apen<EOS>\n"
     ]
    },
    {
     "name": "stderr",
     "output_type": "stream",
     "text": [
      " 17%|█▋        | 30176/173544 [00:28<02:25, 982.22it/s] "
     ]
    },
    {
     "name": "stdout",
     "output_type": "stream",
     "text": [
      "\t tan<EOS>\n",
      "\t an<EOS>\n",
      "\t n<EOS>\n",
      "\t n<EOS>\n",
      "\t stdenan<EOS>\n",
      "\t men<EOS>\n",
      "\t ken<EOS>\n",
      "\t ken<EOS>\n",
      "\t men<EOS>\n",
      "\t hen<EOS>\n"
     ]
    },
    {
     "name": "stderr",
     "output_type": "stream",
     "text": [
      " 23%|██▎       | 40154/173544 [00:37<02:12, 1003.35it/s]"
     ]
    },
    {
     "name": "stdout",
     "output_type": "stream",
     "text": [
      "\t stenonan<EOS>\n",
      "\t uten<EOS>\n",
      "\t qkpen<EOS>\n",
      "\t n<EOS>\n",
      "\t or<EOS>\n",
      "\t ran<EOS>\n",
      "\t klen<EOS>\n",
      "\t sten<EOS>\n",
      "\t hengan<EOS>\n",
      "\t hisan<EOS>\n"
     ]
    },
    {
     "name": "stderr",
     "output_type": "stream",
     "text": [
      " 29%|██▉       | 50151/173544 [00:47<01:59, 1029.71it/s]"
     ]
    },
    {
     "name": "stdout",
     "output_type": "stream",
     "text": [
      "\t on<EOS>\n",
      "\t tlen<EOS>\n",
      "\t lange<EOS>\n",
      "\t nchen<EOS>\n",
      "\t hen<EOS>\n",
      "\t ten<EOS>\n",
      "\t peon<EOS>\n",
      "\t hengen<EOS>\n",
      "\t lon<EOS>\n",
      "\t fen<EOS>\n"
     ]
    },
    {
     "name": "stderr",
     "output_type": "stream",
     "text": [
      " 35%|███▍      | 60139/173544 [00:57<01:52, 1006.66it/s]"
     ]
    },
    {
     "name": "stdout",
     "output_type": "stream",
     "text": [
      "\t sten<EOS>\n",
      "\t penenen<EOS>\n",
      "\t qlen<EOS>\n",
      "\t rináen<EOS>\n",
      "\t an<EOS>\n",
      "\t ran<EOS>\n",
      "\t hen<EOS>\n",
      "\t teengen<EOS>\n",
      "\t uman<EOS>\n",
      "\t hen<EOS>\n"
     ]
    },
    {
     "name": "stderr",
     "output_type": "stream",
     "text": [
      " 40%|████      | 70125/173544 [01:06<01:45, 981.43it/s] "
     ]
    },
    {
     "name": "stdout",
     "output_type": "stream",
     "text": [
      "\t kende<EOS>\n",
      "\t uerman<EOS>\n",
      "\t fdelepedeleng<EOS>\n",
      "\t han<EOS>\n",
      "\t man<EOS>\n",
      "\t ransden<EOS>\n",
      "\t tenon<EOS>\n",
      "\t lantechanken<EOS>\n",
      "\t rastansten<EOS>\n",
      "\t qon<EOS>\n"
     ]
    },
    {
     "name": "stderr",
     "output_type": "stream",
     "text": [
      " 46%|████▌     | 80110/173544 [01:16<01:36, 971.28it/s] "
     ]
    },
    {
     "name": "stdout",
     "output_type": "stream",
     "text": [
      "\t pan<EOS>\n",
      "\t n<EOS>\n",
      "\t ken<EOS>\n",
      "\t an<EOS>\n",
      "\t fachen<EOS>\n",
      "\t ut<EOS>\n",
      "\t nstojesgen<EOS>\n",
      "\t han<EOS>\n",
      "\t pan<EOS>\n",
      "\t qjdentens<EOS>\n"
     ]
    },
    {
     "name": "stderr",
     "output_type": "stream",
     "text": [
      " 52%|█████▏    | 90167/173544 [01:26<01:28, 941.32it/s] "
     ]
    },
    {
     "name": "stdout",
     "output_type": "stream",
     "text": [
      "\t san<EOS>\n",
      "\t fen<EOS>\n",
      "\t ken<EOS>\n",
      "\t on<EOS>\n",
      "\t per<EOS>\n",
      "\t haneren<EOS>\n",
      "\t lan<EOS>\n",
      "\t ker<EOS>\n",
      "\t magen<EOS>\n",
      "\t man<EOS>\n"
     ]
    },
    {
     "name": "stderr",
     "output_type": "stream",
     "text": [
      " 58%|█████▊    | 100140/173544 [01:36<01:14, 985.87it/s]"
     ]
    },
    {
     "name": "stdout",
     "output_type": "stream",
     "text": [
      "\t hen<EOS>\n",
      "\t qe<EOS>\n",
      "\t ongen<EOS>\n",
      "\t qan<EOS>\n",
      "\t rpande<EOS>\n",
      "\t feper<EOS>\n",
      "\t man<EOS>\n",
      "\t us<EOS>\n",
      "\t man<EOS>\n",
      "\t qens<EOS>\n"
     ]
    },
    {
     "name": "stderr",
     "output_type": "stream",
     "text": [
      " 63%|██████▎   | 110181/173544 [01:45<01:02, 1014.19it/s]"
     ]
    },
    {
     "name": "stdout",
     "output_type": "stream",
     "text": [
      "\t ten<EOS>\n",
      "\t on<EOS>\n",
      "\t hen<EOS>\n",
      "\t qever<EOS>\n",
      "\t honten<EOS>\n",
      "\t f<EOS>\n",
      "\t sts<EOS>\n",
      "\t hon<EOS>\n",
      "\t ten<EOS>\n",
      "\t on<EOS>\n"
     ]
    },
    {
     "name": "stderr",
     "output_type": "stream",
     "text": [
      " 69%|██████▉   | 120112/173544 [01:55<00:52, 1013.42it/s]"
     ]
    },
    {
     "name": "stdout",
     "output_type": "stream",
     "text": [
      "\t h<EOS>\n",
      "\t ran<EOS>\n",
      "\t uten<EOS>\n",
      "\t qen<EOS>\n",
      "\t hanuuijersmegen<EOS>\n",
      "\t ten<EOS>\n",
      "\t qantentden<EOS>\n",
      "\t s<EOS>\n",
      "\t on<EOS>\n",
      "\t ten<EOS>\n"
     ]
    },
    {
     "name": "stderr",
     "output_type": "stream",
     "text": [
      " 75%|███████▌  | 130167/173544 [02:04<00:42, 1010.06it/s]"
     ]
    },
    {
     "name": "stdout",
     "output_type": "stream",
     "text": [
      "\t r<EOS>\n",
      "\t ken<EOS>\n",
      "\t sten<EOS>\n",
      "\t laren<EOS>\n",
      "\t ninaver<EOS>\n",
      "\t ten<EOS>\n",
      "\t ken<EOS>\n",
      "\t l<EOS>\n",
      "\t ten<EOS>\n",
      "\t ren<EOS>\n"
     ]
    },
    {
     "name": "stderr",
     "output_type": "stream",
     "text": [
      " 81%|████████  | 140097/173544 [02:14<00:32, 1019.01it/s]"
     ]
    },
    {
     "name": "stdout",
     "output_type": "stream",
     "text": [
      "\t f<EOS>\n",
      "\t tenan<EOS>\n",
      "\t n<EOS>\n",
      "\t ten<EOS>\n",
      "\t sten<EOS>\n",
      "\t n<EOS>\n",
      "\t han<EOS>\n",
      "\t keus<EOS>\n",
      "\t qenen<EOS>\n",
      "\t on<EOS>\n"
     ]
    },
    {
     "name": "stderr",
     "output_type": "stream",
     "text": [
      " 87%|████████▋ | 150159/173544 [02:23<00:22, 1050.92it/s]"
     ]
    },
    {
     "name": "stdout",
     "output_type": "stream",
     "text": [
      "\t henger<EOS>\n",
      "\t lan<EOS>\n",
      "\t ktaamangen<EOS>\n",
      "\t f<EOS>\n",
      "\t sten<EOS>\n",
      "\t ten<EOS>\n",
      "\t penaaaaaan<EOS>\n",
      "\t an<EOS>\n",
      "\t lan<EOS>\n",
      "\t un<EOS>\n"
     ]
    },
    {
     "name": "stderr",
     "output_type": "stream",
     "text": [
      " 92%|█████████▏| 160130/173544 [02:33<00:13, 1007.95it/s]"
     ]
    },
    {
     "name": "stdout",
     "output_type": "stream",
     "text": [
      "\t r<EOS>\n",
      "\t r<EOS>\n",
      "\t r<EOS>\n",
      "\t pen<EOS>\n",
      "\t f<EOS>\n",
      "\t an<EOS>\n",
      "\t tenvoon<EOS>\n",
      "\t ns<EOS>\n",
      "\t haaan<EOS>\n",
      "\t ken-en<EOS>\n"
     ]
    },
    {
     "name": "stderr",
     "output_type": "stream",
     "text": [
      " 98%|█████████▊| 170132/173544 [02:43<00:03, 1015.48it/s]"
     ]
    },
    {
     "name": "stdout",
     "output_type": "stream",
     "text": [
      "\t n<EOS>\n",
      "\t stuikeen<EOS>\n",
      "\t an<EOS>\n",
      "\t han<EOS>\n",
      "\t kel<EOS>\n",
      "\t ster<EOS>\n",
      "\t han<EOS>\n",
      "\t ken<EOS>\n",
      "\t f<EOS>\n",
      "\t maf<EOS>\n"
     ]
    },
    {
     "name": "stderr",
     "output_type": "stream",
     "text": [
      "100%|██████████| 173544/173544 [02:46<00:00, 1039.83it/s]\n",
      "  0%|          | 82/173544 [00:00<03:32, 816.12it/s]"
     ]
    },
    {
     "name": "stdout",
     "output_type": "stream",
     "text": [
      "2.666391875519616\n",
      "\t pen<EOS>\n",
      "\t ten<EOS>\n",
      "\t an<EOS>\n",
      "\t sten<EOS>\n",
      "\t ongier<EOS>\n",
      "\t tenwen<EOS>\n",
      "\t ken<EOS>\n",
      "\t moon<EOS>\n",
      "\t qengen<EOS>\n",
      "\t len<EOS>\n",
      "\t klaan<EOS>\n",
      "\t tb<EOS>\n",
      "\t qen<EOS>\n",
      "\t st<EOS>\n",
      "\t len<EOS>\n",
      "\t san<EOS>\n",
      "\t uchen<EOS>\n",
      "\t pen<EOS>\n",
      "\t henenen<EOS>\n",
      "\t n<EOS>\n"
     ]
    },
    {
     "name": "stderr",
     "output_type": "stream",
     "text": [
      "  6%|▌         | 10120/173544 [00:09<02:40, 1016.68it/s]"
     ]
    },
    {
     "name": "stdout",
     "output_type": "stream",
     "text": [
      "\t ka<EOS>\n",
      "\t ache<EOS>\n",
      "\t tepsel<EOS>\n",
      "\t lan<EOS>\n",
      "\t tegenoen<EOS>\n",
      "\t mananoen<EOS>\n",
      "\t an<EOS>\n",
      "\t qeteren<EOS>\n",
      "\t n<EOS>\n",
      "\t st<EOS>\n"
     ]
    },
    {
     "name": "stderr",
     "output_type": "stream",
     "text": [
      " 12%|█▏        | 20202/173544 [00:19<02:29, 1022.34it/s]"
     ]
    },
    {
     "name": "stdout",
     "output_type": "stream",
     "text": [
      "\t man<EOS>\n",
      "\t qarenss<EOS>\n",
      "\t ten<EOS>\n",
      "\t ks<EOS>\n",
      "\t pengen<EOS>\n",
      "\t nwen<EOS>\n",
      "\t mann<EOS>\n",
      "\t unteen<EOS>\n",
      "\t man<EOS>\n",
      "\t tens<EOS>\n"
     ]
    },
    {
     "name": "stderr",
     "output_type": "stream",
     "text": [
      " 17%|█▋        | 30133/173544 [00:28<02:26, 979.78it/s] "
     ]
    },
    {
     "name": "stdout",
     "output_type": "stream",
     "text": [
      "\t hemenen<EOS>\n",
      "\t hen<EOS>\n",
      "\t st<EOS>\n",
      "\t qemen<EOS>\n",
      "\t pan<EOS>\n",
      "\t alen<EOS>\n",
      "\t mangen<EOS>\n",
      "\t tetuin<EOS>\n",
      "\t kengen<EOS>\n",
      "\t rkens<EOS>\n"
     ]
    },
    {
     "name": "stderr",
     "output_type": "stream",
     "text": [
      " 23%|██▎       | 40135/173544 [00:38<02:14, 991.10it/s] "
     ]
    },
    {
     "name": "stdout",
     "output_type": "stream",
     "text": [
      "\t f<EOS>\n",
      "\t lan<EOS>\n",
      "\t f<EOS>\n",
      "\t acher<EOS>\n",
      "\t r<EOS>\n",
      "\t ot<EOS>\n",
      "\t rertaaalan<EOS>\n",
      "\t p<EOS>\n",
      "\t ann<EOS>\n",
      "\t lan<EOS>\n"
     ]
    },
    {
     "name": "stderr",
     "output_type": "stream",
     "text": [
      " 29%|██▉       | 50103/173544 [00:47<02:04, 992.71it/s] "
     ]
    },
    {
     "name": "stdout",
     "output_type": "stream",
     "text": [
      "\t sengen<EOS>\n",
      "\t kis<EOS>\n",
      "\t han<EOS>\n",
      "\t tenen<EOS>\n",
      "\t hon<EOS>\n",
      "\t n<EOS>\n",
      "\t kgen<EOS>\n",
      "\t man<EOS>\n",
      "\t han<EOS>\n",
      "\t man<EOS>\n"
     ]
    },
    {
     "name": "stderr",
     "output_type": "stream",
     "text": [
      " 35%|███▍      | 60154/173544 [00:57<01:55, 981.45it/s] "
     ]
    },
    {
     "name": "stdout",
     "output_type": "stream",
     "text": [
      "\t hen<EOS>\n",
      "\t ppenrdr<EOS>\n",
      "\t ten<EOS>\n",
      "\t men<EOS>\n",
      "\t st<EOS>\n",
      "\t ntezer<EOS>\n",
      "\t mdeng<EOS>\n",
      "\t nden<EOS>\n",
      "\t rends<EOS>\n",
      "\t rent<EOS>\n"
     ]
    },
    {
     "name": "stderr",
     "output_type": "stream",
     "text": [
      " 40%|████      | 70180/173544 [01:07<01:39, 1039.03it/s]"
     ]
    },
    {
     "name": "stdout",
     "output_type": "stream",
     "text": [
      "\t r<EOS>\n",
      "\t an<EOS>\n",
      "\t han<EOS>\n",
      "\t r<EOS>\n",
      "\t an<EOS>\n",
      "\t t<EOS>\n",
      "\t f<EOS>\n",
      "\t aanben<EOS>\n",
      "\t man<EOS>\n",
      "\t faaaaaaainger<EOS>\n"
     ]
    },
    {
     "name": "stderr",
     "output_type": "stream",
     "text": [
      " 46%|████▌     | 80167/173544 [01:16<01:29, 1042.27it/s]"
     ]
    },
    {
     "name": "stdout",
     "output_type": "stream",
     "text": [
      "\t an<EOS>\n",
      "\t lan<EOS>\n",
      "\t steinmen<EOS>\n",
      "\t nin<EOS>\n",
      "\t qen<EOS>\n",
      "\t n<EOS>\n",
      "\t peengsen<EOS>\n",
      "\t ter<EOS>\n",
      "\t ren<EOS>\n",
      "\t men<EOS>\n"
     ]
    },
    {
     "name": "stderr",
     "output_type": "stream",
     "text": [
      " 52%|█████▏    | 90179/173544 [01:26<01:28, 942.96it/s] "
     ]
    },
    {
     "name": "stdout",
     "output_type": "stream",
     "text": [
      "\t pen<EOS>\n",
      "\t ussur-<EOS>\n",
      "\t q<EOS>\n",
      "\t qwaf<EOS>\n",
      "\t qpen<EOS>\n",
      "\t f<EOS>\n",
      "\t hon<EOS>\n",
      "\t hon<EOS>\n",
      "\t r<EOS>\n",
      "\t ster<EOS>\n"
     ]
    },
    {
     "name": "stderr",
     "output_type": "stream",
     "text": [
      " 58%|█████▊    | 100173/173544 [01:35<01:11, 1028.42it/s]"
     ]
    },
    {
     "name": "stdout",
     "output_type": "stream",
     "text": [
      "\t f<EOS>\n",
      "\t per<EOS>\n",
      "\t per<EOS>\n",
      "\t n<EOS>\n",
      "\t on<EOS>\n",
      "\t ager<EOS>\n",
      "\t man<EOS>\n",
      "\t nin<EOS>\n",
      "\t f<EOS>\n",
      "\t n<EOS>\n"
     ]
    },
    {
     "name": "stderr",
     "output_type": "stream",
     "text": [
      " 63%|██████▎   | 110108/173544 [01:45<01:01, 1028.86it/s]"
     ]
    },
    {
     "name": "stdout",
     "output_type": "stream",
     "text": [
      "\t qen<EOS>\n",
      "\t st<EOS>\n",
      "\t an<EOS>\n",
      "\t f<EOS>\n",
      "\t fk<EOS>\n",
      "\t ns<EOS>\n",
      "\t us<EOS>\n",
      "\t tes<EOS>\n",
      "\t teenr<EOS>\n",
      "\t ak<EOS>\n"
     ]
    },
    {
     "name": "stderr",
     "output_type": "stream",
     "text": [
      " 69%|██████▉   | 120144/173544 [01:55<00:52, 1020.36it/s]"
     ]
    },
    {
     "name": "stdout",
     "output_type": "stream",
     "text": [
      "\t hesprs<EOS>\n",
      "\t sten<EOS>\n",
      "\t rek<EOS>\n",
      "\t ren<EOS>\n",
      "\t lanen<EOS>\n",
      "\t on<EOS>\n",
      "\t lten<EOS>\n",
      "\t stenen<EOS>\n",
      "\t len<EOS>\n",
      "\t hen<EOS>\n"
     ]
    },
    {
     "name": "stderr",
     "output_type": "stream",
     "text": [
      " 75%|███████▍  | 130101/173544 [02:04<00:43, 999.76it/s] "
     ]
    },
    {
     "name": "stdout",
     "output_type": "stream",
     "text": [
      "\t tan<EOS>\n",
      "\t panin<EOS>\n",
      "\t ler<EOS>\n",
      "\t stenin<EOS>\n",
      "\t ken<EOS>\n",
      "\t qen<EOS>\n",
      "\t panongen<EOS>\n",
      "\t an<EOS>\n",
      "\t on<EOS>\n",
      "\t f<EOS>\n"
     ]
    },
    {
     "name": "stderr",
     "output_type": "stream",
     "text": [
      " 81%|████████  | 140109/173544 [02:14<00:32, 1034.64it/s]"
     ]
    },
    {
     "name": "stdout",
     "output_type": "stream",
     "text": [
      "\t man<EOS>\n",
      "\t ter<EOS>\n",
      "\t ter<EOS>\n",
      "\t hen<EOS>\n",
      "\t lan<EOS>\n",
      "\t n<EOS>\n",
      "\t n<EOS>\n",
      "\t kel<EOS>\n",
      "\t ren<EOS>\n",
      "\t n<EOS>\n"
     ]
    },
    {
     "name": "stderr",
     "output_type": "stream",
     "text": [
      " 87%|████████▋ | 150145/173544 [02:24<00:22, 1045.71it/s]"
     ]
    },
    {
     "name": "stdout",
     "output_type": "stream",
     "text": [
      "\t n<EOS>\n",
      "\t lendr<EOS>\n",
      "\t rbijer<EOS>\n",
      "\t toondek<EOS>\n",
      "\t usspenon<EOS>\n",
      "\t fan<EOS>\n",
      "\t qen<EOS>\n",
      "\t sten<EOS>\n",
      "\t reen<EOS>\n",
      "\t fler<EOS>\n"
     ]
    },
    {
     "name": "stderr",
     "output_type": "stream",
     "text": [
      " 92%|█████████▏| 160188/173544 [02:33<00:12, 1040.44it/s]"
     ]
    },
    {
     "name": "stdout",
     "output_type": "stream",
     "text": [
      "\t ten<EOS>\n",
      "\t ter<EOS>\n",
      "\t st<EOS>\n",
      "\t an<EOS>\n",
      "\t mnder<EOS>\n",
      "\t kenjer<EOS>\n",
      "\t terde<EOS>\n",
      "\t f<EOS>\n",
      "\t qen<EOS>\n",
      "\t man<EOS>\n"
     ]
    },
    {
     "name": "stderr",
     "output_type": "stream",
     "text": [
      " 98%|█████████▊| 170197/173544 [02:43<00:03, 1043.07it/s]"
     ]
    },
    {
     "name": "stdout",
     "output_type": "stream",
     "text": [
      "\t faaran<EOS>\n",
      "\t qenal<EOS>\n",
      "\t on<EOS>\n",
      "\t pen<EOS>\n",
      "\t tjers<EOS>\n",
      "\t men<EOS>\n",
      "\t hon<EOS>\n",
      "\t noter<EOS>\n",
      "\t qen<EOS>\n",
      "\t honpen<EOS>\n"
     ]
    },
    {
     "name": "stderr",
     "output_type": "stream",
     "text": [
      "100%|██████████| 173544/173544 [02:46<00:00, 1042.57it/s]\n",
      "  0%|          | 193/173544 [00:00<03:12, 902.50it/s]"
     ]
    },
    {
     "name": "stdout",
     "output_type": "stream",
     "text": [
      "\t nden<EOS>\n",
      "\t hen<EOS>\n",
      "\t r<EOS>\n",
      "\t hen<EOS>\n",
      "\t pen<EOS>\n",
      "\t pemen<EOS>\n",
      "\t ff<EOS>\n",
      "\t sten<EOS>\n",
      "\t ur<EOS>\n",
      "\t henlesten<EOS>\n"
     ]
    },
    {
     "name": "stderr",
     "output_type": "stream",
     "text": [
      "  6%|▌         | 10160/173544 [00:09<02:41, 1012.48it/s]"
     ]
    },
    {
     "name": "stdout",
     "output_type": "stream",
     "text": [
      "\t qen<EOS>\n",
      "\t manan<EOS>\n",
      "\t man<EOS>\n",
      "\t pen<EOS>\n",
      "\t pan<EOS>\n",
      "\t san<EOS>\n",
      "\t f<EOS>\n",
      "\t ot<EOS>\n",
      "\t pun<EOS>\n",
      "\t st<EOS>\n"
     ]
    },
    {
     "name": "stderr",
     "output_type": "stream",
     "text": [
      " 12%|█▏        | 20153/173544 [00:19<02:28, 1032.10it/s]"
     ]
    },
    {
     "name": "stdout",
     "output_type": "stream",
     "text": [
      "\t and<EOS>\n",
      "\t ons<EOS>\n",
      "\t ren<EOS>\n",
      "\t qen<EOS>\n",
      "\t f<EOS>\n",
      "\t stenden<EOS>\n",
      "\t lan<EOS>\n",
      "\t maken<EOS>\n",
      "\t nkenen<EOS>\n",
      "\t mpr<EOS>\n"
     ]
    },
    {
     "name": "stderr",
     "output_type": "stream",
     "text": [
      " 17%|█▋        | 30173/173544 [00:28<02:24, 992.75it/s] "
     ]
    },
    {
     "name": "stdout",
     "output_type": "stream",
     "text": [
      "\t lged<EOS>\n",
      "\t peger<EOS>\n",
      "\t f<EOS>\n",
      "\t ker<EOS>\n",
      "\t men<EOS>\n",
      "\t f<EOS>\n",
      "\t peispanan<EOS>\n",
      "\t sten<EOS>\n",
      "\t ud<EOS>\n",
      "\t qen<EOS>\n"
     ]
    },
    {
     "name": "stderr",
     "output_type": "stream",
     "text": [
      " 23%|██▎       | 40176/173544 [00:39<02:11, 1010.43it/s]"
     ]
    },
    {
     "name": "stdout",
     "output_type": "stream",
     "text": [
      "\t fler<EOS>\n",
      "\t henzer<EOS>\n",
      "\t n<EOS>\n",
      "\t pen<EOS>\n",
      "\t man<EOS>\n",
      "\t r<EOS>\n",
      "\t anter<EOS>\n",
      "\t opper<EOS>\n",
      "\t renden<EOS>\n",
      "\t an<EOS>\n"
     ]
    },
    {
     "name": "stderr",
     "output_type": "stream",
     "text": [
      " 29%|██▉       | 50110/173544 [00:49<02:13, 925.62it/s] "
     ]
    },
    {
     "name": "stdout",
     "output_type": "stream",
     "text": [
      "\t n<EOS>\n",
      "\t mens<EOS>\n",
      "\t urden<EOS>\n",
      "\t ten<EOS>\n",
      "\t ten<EOS>\n",
      "\t hen<EOS>\n",
      "\t me<EOS>\n",
      "\t henchen<EOS>\n",
      "\t ken<EOS>\n",
      "\t ur<EOS>\n"
     ]
    },
    {
     "name": "stderr",
     "output_type": "stream",
     "text": [
      " 35%|███▍      | 60154/173544 [00:58<01:53, 997.29it/s] "
     ]
    },
    {
     "name": "stdout",
     "output_type": "stream",
     "text": [
      "\t ren<EOS>\n",
      "\t lelan<EOS>\n",
      "\t kan<EOS>\n",
      "\t pe<EOS>\n",
      "\t h<EOS>\n",
      "\t pen<EOS>\n",
      "\t ler<EOS>\n",
      "\t f<EOS>\n",
      "\t hongder<EOS>\n",
      "\t pen<EOS>\n"
     ]
    },
    {
     "name": "stderr",
     "output_type": "stream",
     "text": [
      " 40%|████      | 70147/173544 [01:08<01:42, 1005.53it/s]"
     ]
    },
    {
     "name": "stdout",
     "output_type": "stream",
     "text": [
      "\t man<EOS>\n",
      "\t perands<EOS>\n",
      "\t n<EOS>\n",
      "\t fuijermen<EOS>\n",
      "\t manr<EOS>\n",
      "\t ren<EOS>\n",
      "\t ongens<EOS>\n",
      "\t ter<EOS>\n",
      "\t men<EOS>\n",
      "\t ter<EOS>\n"
     ]
    },
    {
     "name": "stderr",
     "output_type": "stream",
     "text": [
      " 46%|████▌     | 80148/173544 [01:18<01:27, 1072.63it/s]"
     ]
    },
    {
     "name": "stdout",
     "output_type": "stream",
     "text": [
      "\t fader<EOS>\n",
      "\t on<EOS>\n",
      "\t scher<EOS>\n",
      "\t umendoeengen<EOS>\n",
      "\t lanmen<EOS>\n",
      "\t f<EOS>\n",
      "\t uen<EOS>\n",
      "\t hen<EOS>\n",
      "\t nder<EOS>\n",
      "\t f<EOS>\n"
     ]
    },
    {
     "name": "stderr",
     "output_type": "stream",
     "text": [
      " 52%|█████▏    | 90133/173544 [01:27<01:17, 1069.46it/s]"
     ]
    },
    {
     "name": "stdout",
     "output_type": "stream",
     "text": [
      "\t on<EOS>\n",
      "\t ken<EOS>\n",
      "\t n<EOS>\n",
      "\t pen<EOS>\n",
      "\t quinder<EOS>\n",
      "\t hchs<EOS>\n",
      "\t teen<EOS>\n",
      "\t hegsen<EOS>\n",
      "\t sten<EOS>\n",
      "\t sten<EOS>\n"
     ]
    },
    {
     "name": "stderr",
     "output_type": "stream",
     "text": [
      " 58%|█████▊    | 100202/173544 [01:36<01:10, 1040.93it/s]"
     ]
    },
    {
     "name": "stdout",
     "output_type": "stream",
     "text": [
      "\t ld<EOS>\n",
      "\t man<EOS>\n",
      "\t on<EOS>\n",
      "\t nnden<EOS>\n",
      "\t n<EOS>\n",
      "\t n<EOS>\n",
      "\t ler<EOS>\n",
      "\t leen<EOS>\n",
      "\t ken<EOS>\n",
      "\t qsenden<EOS>\n"
     ]
    },
    {
     "name": "stderr",
     "output_type": "stream",
     "text": [
      " 63%|██████▎   | 110134/173544 [01:46<00:58, 1090.53it/s]"
     ]
    },
    {
     "name": "stdout",
     "output_type": "stream",
     "text": [
      "\t fierderr<EOS>\n",
      "\t qeef<EOS>\n",
      "\t f<EOS>\n",
      "\t un<EOS>\n",
      "\t leren<EOS>\n",
      "\t usr<EOS>\n",
      "\t qen<EOS>\n",
      "\t st<EOS>\n",
      "\t ler<EOS>\n",
      "\t f<EOS>\n"
     ]
    },
    {
     "name": "stderr",
     "output_type": "stream",
     "text": [
      " 69%|██████▉   | 120135/173544 [01:56<00:52, 1010.19it/s]"
     ]
    },
    {
     "name": "stdout",
     "output_type": "stream",
     "text": [
      "\t tengop<EOS>\n",
      "\t man<EOS>\n",
      "\t pvur<EOS>\n",
      "\t n<EOS>\n",
      "\t k<EOS>\n",
      "\t qus<EOS>\n",
      "\t anken<EOS>\n",
      "\t ff<EOS>\n",
      "\t qus<EOS>\n",
      "\t r<EOS>\n"
     ]
    },
    {
     "name": "stderr",
     "output_type": "stream",
     "text": [
      " 75%|███████▍  | 130125/173544 [02:05<00:43, 995.85it/s] "
     ]
    },
    {
     "name": "stdout",
     "output_type": "stream",
     "text": [
      "\t lan<EOS>\n",
      "\t m<EOS>\n",
      "\t landed<EOS>\n",
      "\t ondermvemp<EOS>\n",
      "\t ongeng<EOS>\n",
      "\t pengen<EOS>\n",
      "\t on<EOS>\n",
      "\t penchoen<EOS>\n",
      "\t ng<EOS>\n",
      "\t man<EOS>\n"
     ]
    },
    {
     "name": "stderr",
     "output_type": "stream",
     "text": [
      " 81%|████████  | 140132/173544 [02:15<00:33, 993.58it/s] "
     ]
    },
    {
     "name": "stdout",
     "output_type": "stream",
     "text": [
      "\t prer<EOS>\n",
      "\t oper<EOS>\n",
      "\t quin<EOS>\n",
      "\t to<EOS>\n",
      "\t uk<EOS>\n",
      "\t quier<EOS>\n",
      "\t r<EOS>\n",
      "\t man<EOS>\n",
      "\t ker<EOS>\n",
      "\t an<EOS>\n"
     ]
    },
    {
     "name": "stderr",
     "output_type": "stream",
     "text": [
      " 87%|████████▋ | 150145/173544 [02:25<00:23, 1014.90it/s]"
     ]
    },
    {
     "name": "stdout",
     "output_type": "stream",
     "text": [
      "\t ran<EOS>\n",
      "\t per<EOS>\n",
      "\t r<EOS>\n",
      "\t us<EOS>\n",
      "\t uin<EOS>\n",
      "\t us<EOS>\n",
      "\t ucher<EOS>\n",
      "\t quinscher<EOS>\n",
      "\t os<EOS>\n",
      "\t on<EOS>\n"
     ]
    },
    {
     "name": "stderr",
     "output_type": "stream",
     "text": [
      " 92%|█████████▏| 160144/173544 [02:34<00:12, 1057.58it/s]"
     ]
    },
    {
     "name": "stdout",
     "output_type": "stream",
     "text": [
      "\t ste<EOS>\n",
      "\t rs<EOS>\n",
      "\t hver<EOS>\n",
      "\t quin<EOS>\n",
      "\t an<EOS>\n",
      "\t od<EOS>\n",
      "\t tjk<EOS>\n",
      "\t mp<EOS>\n",
      "\t fl<EOS>\n",
      "\t tel<EOS>\n"
     ]
    },
    {
     "name": "stderr",
     "output_type": "stream",
     "text": [
      " 98%|█████████▊| 170092/173544 [02:44<00:03, 981.41it/s] "
     ]
    },
    {
     "name": "stdout",
     "output_type": "stream",
     "text": [
      "\t onspel<EOS>\n",
      "\t n<EOS>\n",
      "\t an<EOS>\n",
      "\t per<EOS>\n",
      "\t fen<EOS>\n",
      "\t on<EOS>\n",
      "\t ren<EOS>\n",
      "\t langel<EOS>\n",
      "\t as<EOS>\n",
      "\t pen<EOS>\n"
     ]
    },
    {
     "name": "stderr",
     "output_type": "stream",
     "text": [
      "100%|██████████| 173544/173544 [02:47<00:00, 1036.40it/s]\n",
      "  0%|          | 186/173544 [00:00<03:30, 824.75it/s]"
     ]
    },
    {
     "name": "stdout",
     "output_type": "stream",
     "text": [
      "\t onrauin<EOS>\n",
      "\t malel<EOS>\n",
      "\t pecher<EOS>\n",
      "\t pen<EOS>\n",
      "\t ker<EOS>\n",
      "\t fs<EOS>\n",
      "\t lans<EOS>\n",
      "\t hen<EOS>\n",
      "\t steenber<EOS>\n",
      "\t ranleenerher<EOS>\n"
     ]
    },
    {
     "name": "stderr",
     "output_type": "stream",
     "text": [
      "  6%|▌         | 10124/173544 [00:09<02:44, 990.77it/s]"
     ]
    },
    {
     "name": "stdout",
     "output_type": "stream",
     "text": [
      "\t her<EOS>\n",
      "\t rendet<EOS>\n",
      "\t nan<EOS>\n",
      "\t faaaaagen<EOS>\n",
      "\t f<EOS>\n",
      "\t on<EOS>\n",
      "\t ul<EOS>\n",
      "\t on<EOS>\n",
      "\t stel<EOS>\n",
      "\t af<EOS>\n"
     ]
    },
    {
     "name": "stderr",
     "output_type": "stream",
     "text": [
      " 12%|█▏        | 20198/173544 [00:19<02:27, 1036.71it/s]"
     ]
    },
    {
     "name": "stdout",
     "output_type": "stream",
     "text": [
      "\t us<EOS>\n",
      "\t hops<EOS>\n",
      "\t p<EOS>\n",
      "\t sten<EOS>\n",
      "\t ran<EOS>\n",
      "\t pen<EOS>\n",
      "\t ks<EOS>\n",
      "\t ma<EOS>\n",
      "\t an<EOS>\n",
      "\t larlet<EOS>\n"
     ]
    },
    {
     "name": "stderr",
     "output_type": "stream",
     "text": [
      " 17%|█▋        | 30154/173544 [00:28<02:27, 973.78it/s] "
     ]
    },
    {
     "name": "stdout",
     "output_type": "stream",
     "text": [
      "\t ren<EOS>\n",
      "\t an<EOS>\n",
      "\t kvoenger<EOS>\n",
      "\t f<EOS>\n",
      "\t on<EOS>\n",
      "\t ren<EOS>\n",
      "\t os<EOS>\n",
      "\t ren<EOS>\n",
      "\t ren<EOS>\n",
      "\t ten<EOS>\n"
     ]
    },
    {
     "name": "stderr",
     "output_type": "stream",
     "text": [
      " 23%|██▎       | 40163/173544 [00:38<02:23, 927.89it/s] "
     ]
    },
    {
     "name": "stdout",
     "output_type": "stream",
     "text": [
      "\t ten<EOS>\n",
      "\t fer<EOS>\n",
      "\t urchen<EOS>\n",
      "\t ken<EOS>\n",
      "\t fsenben<EOS>\n",
      "\t n<EOS>\n",
      "\t lden<EOS>\n",
      "\t an<EOS>\n",
      "\t fer<EOS>\n",
      "\t qu<EOS>\n"
     ]
    },
    {
     "name": "stderr",
     "output_type": "stream",
     "text": [
      " 29%|██▉       | 50172/173544 [00:48<02:00, 1026.44it/s]"
     ]
    },
    {
     "name": "stdout",
     "output_type": "stream",
     "text": [
      "\t feen<EOS>\n",
      "\t ren<EOS>\n",
      "\t ur<EOS>\n",
      "\t amen<EOS>\n",
      "\t ren<EOS>\n",
      "\t ur<EOS>\n",
      "\t rezer<EOS>\n",
      "\t fder<EOS>\n",
      "\t ter<EOS>\n",
      "\t quin<EOS>\n"
     ]
    },
    {
     "name": "stderr",
     "output_type": "stream",
     "text": [
      " 35%|███▍      | 60172/173544 [00:58<01:57, 967.50it/s] "
     ]
    },
    {
     "name": "stdout",
     "output_type": "stream",
     "text": [
      "\t ker<EOS>\n",
      "\t n<EOS>\n",
      "\t un<EOS>\n",
      "\t fergen<EOS>\n",
      "\t ter<EOS>\n",
      "\t quin<EOS>\n",
      "\t quin<EOS>\n",
      "\t ker<EOS>\n",
      "\t n<EOS>\n",
      "\t ter<EOS>\n"
     ]
    },
    {
     "name": "stderr",
     "output_type": "stream",
     "text": [
      " 40%|████      | 70128/173544 [01:07<01:44, 987.33it/s] "
     ]
    },
    {
     "name": "stdout",
     "output_type": "stream",
     "text": [
      "\t ran<EOS>\n",
      "\t quins<EOS>\n",
      "\t stquin<EOS>\n",
      "\t lan<EOS>\n",
      "\t us<EOS>\n",
      "\t pen<EOS>\n",
      "\t ken<EOS>\n",
      "\t us<EOS>\n",
      "\t stef<EOS>\n",
      "\t laler<EOS>\n"
     ]
    },
    {
     "name": "stderr",
     "output_type": "stream",
     "text": [
      " 46%|████▌     | 80098/173544 [01:17<01:36, 963.84it/s] "
     ]
    },
    {
     "name": "stdout",
     "output_type": "stream",
     "text": [
      "\t ten<EOS>\n",
      "\t ste<EOS>\n",
      "\t stengen<EOS>\n",
      "\t lon<EOS>\n",
      "\t sanik<EOS>\n",
      "\t pper<EOS>\n",
      "\t stek<EOS>\n",
      "\t pek<EOS>\n",
      "\t onderangen<EOS>\n",
      "\t uijn<EOS>\n"
     ]
    },
    {
     "name": "stderr",
     "output_type": "stream",
     "text": [
      " 52%|█████▏    | 90115/173544 [01:27<01:28, 945.27it/s] "
     ]
    },
    {
     "name": "stdout",
     "output_type": "stream",
     "text": [
      "\t nendenen<EOS>\n",
      "\t ran<EOS>\n",
      "\t kens<EOS>\n",
      "\t n<EOS>\n",
      "\t urter<EOS>\n",
      "\t rin<EOS>\n",
      "\t shaier<EOS>\n",
      "\t on<EOS>\n",
      "\t an<EOS>\n",
      "\t qui<EOS>\n"
     ]
    },
    {
     "name": "stderr",
     "output_type": "stream",
     "text": [
      " 58%|█████▊    | 100139/173544 [01:37<01:09, 1049.18it/s]"
     ]
    },
    {
     "name": "stdout",
     "output_type": "stream",
     "text": [
      "\t lisuk<EOS>\n",
      "\t ran<EOS>\n",
      "\t ken<EOS>\n",
      "\t man<EOS>\n",
      "\t per<EOS>\n",
      "\t ten<EOS>\n",
      "\t ranen<EOS>\n",
      "\t lon<EOS>\n",
      "\t hen<EOS>\n",
      "\t nve<EOS>\n"
     ]
    },
    {
     "name": "stderr",
     "output_type": "stream",
     "text": [
      " 63%|██████▎   | 110098/173544 [01:46<01:02, 1010.65it/s]"
     ]
    },
    {
     "name": "stdout",
     "output_type": "stream",
     "text": [
      "\t paaadur<EOS>\n",
      "\t on<EOS>\n",
      "\t lan<EOS>\n",
      "\t f<EOS>\n",
      "\t sten<EOS>\n",
      "\t tan<EOS>\n",
      "\t pen<EOS>\n",
      "\t ur<EOS>\n",
      "\t ker<EOS>\n",
      "\t nin<EOS>\n"
     ]
    },
    {
     "name": "stderr",
     "output_type": "stream",
     "text": [
      " 69%|██████▉   | 120184/173544 [01:56<00:54, 984.24it/s] "
     ]
    },
    {
     "name": "stdout",
     "output_type": "stream",
     "text": [
      "\t f<EOS>\n",
      "\t qber<EOS>\n",
      "\t ler<EOS>\n",
      "\t oentaben<EOS>\n",
      "\t ler<EOS>\n",
      "\t f<EOS>\n",
      "\t kender<EOS>\n",
      "\t ten<EOS>\n",
      "\t n<EOS>\n",
      "\t sten<EOS>\n"
     ]
    },
    {
     "name": "stderr",
     "output_type": "stream",
     "text": [
      " 75%|███████▌  | 130206/173544 [02:06<00:41, 1044.59it/s]"
     ]
    },
    {
     "name": "stdout",
     "output_type": "stream",
     "text": [
      "\t lef<EOS>\n",
      "\t quin<EOS>\n",
      "\t nf<EOS>\n",
      "\t kebin<EOS>\n",
      "\t mongen<EOS>\n",
      "\t sts<EOS>\n",
      "\t mpler<EOS>\n",
      "\t an<EOS>\n",
      "\t uin<EOS>\n",
      "\t per<EOS>\n"
     ]
    },
    {
     "name": "stderr",
     "output_type": "stream",
     "text": [
      " 81%|████████  | 140192/173544 [02:15<00:32, 1011.88it/s]"
     ]
    },
    {
     "name": "stdout",
     "output_type": "stream",
     "text": [
      "\t perzer<EOS>\n",
      "\t teroenbe<EOS>\n",
      "\t leron<EOS>\n",
      "\t f<EOS>\n",
      "\t rder<EOS>\n",
      "\t kerer<EOS>\n",
      "\t ss<EOS>\n",
      "\t n<EOS>\n",
      "\t flver<EOS>\n",
      "\t rengldens<EOS>\n"
     ]
    },
    {
     "name": "stderr",
     "output_type": "stream",
     "text": [
      " 87%|████████▋ | 150141/173544 [02:25<00:23, 996.20it/s] "
     ]
    },
    {
     "name": "stdout",
     "output_type": "stream",
     "text": [
      "\t an<EOS>\n",
      "\t anapenge<EOS>\n",
      "\t man<EOS>\n",
      "\t s<EOS>\n",
      "\t lan<EOS>\n",
      "\t kegen<EOS>\n",
      "\t pen<EOS>\n",
      "\t p<EOS>\n",
      "\t teon<EOS>\n",
      "\t heher<EOS>\n"
     ]
    },
    {
     "name": "stderr",
     "output_type": "stream",
     "text": [
      " 92%|█████████▏| 160103/173544 [02:34<00:13, 980.89it/s] "
     ]
    },
    {
     "name": "stdout",
     "output_type": "stream",
     "text": [
      "\t tenevaaad<EOS>\n",
      "\t len<EOS>\n",
      "\t an<EOS>\n",
      "\t ren<EOS>\n",
      "\t uschen<EOS>\n",
      "\t lenden<EOS>\n",
      "\t n<EOS>\n",
      "\t ren<EOS>\n",
      "\t f<EOS>\n",
      "\t faaaabel<EOS>\n"
     ]
    },
    {
     "name": "stderr",
     "output_type": "stream",
     "text": [
      " 98%|█████████▊| 170149/173544 [02:44<00:03, 1038.45it/s]"
     ]
    },
    {
     "name": "stdout",
     "output_type": "stream",
     "text": [
      "\t mande<EOS>\n",
      "\t keron<EOS>\n",
      "\t terin<EOS>\n",
      "\t ster<EOS>\n",
      "\t man<EOS>\n",
      "\t an<EOS>\n",
      "\t qr<EOS>\n",
      "\t quin<EOS>\n",
      "\t p-r<EOS>\n",
      "\t sterker<EOS>\n"
     ]
    },
    {
     "name": "stderr",
     "output_type": "stream",
     "text": [
      "100%|██████████| 173544/173544 [02:47<00:00, 1035.91it/s]\n",
      "  0%|          | 182/173544 [00:00<03:27, 837.44it/s]"
     ]
    },
    {
     "name": "stdout",
     "output_type": "stream",
     "text": [
      "\t quin<EOS>\n",
      "\t f<EOS>\n",
      "\t ken<EOS>\n",
      "\t an<EOS>\n",
      "\t st<EOS>\n",
      "\t r<EOS>\n",
      "\t kler<EOS>\n",
      "\t ar<EOS>\n",
      "\t ted-<EOS>\n",
      "\t hen<EOS>\n"
     ]
    },
    {
     "name": "stderr",
     "output_type": "stream",
     "text": [
      "  6%|▌         | 10142/173544 [00:10<02:40, 1015.62it/s]"
     ]
    },
    {
     "name": "stdout",
     "output_type": "stream",
     "text": [
      "\t quin<EOS>\n",
      "\t n<EOS>\n",
      "\t uigender<EOS>\n",
      "\t man<EOS>\n",
      "\t ler<EOS>\n",
      "\t leron<EOS>\n",
      "\t quin<EOS>\n",
      "\t ter<EOS>\n",
      "\t ter<EOS>\n",
      "\t an<EOS>\n"
     ]
    },
    {
     "name": "stderr",
     "output_type": "stream",
     "text": [
      " 12%|█▏        | 20096/173544 [00:19<02:33, 999.18it/s] "
     ]
    },
    {
     "name": "stdout",
     "output_type": "stream",
     "text": [
      "\t qulanoen<EOS>\n",
      "\t stef<EOS>\n",
      "\t pon<EOS>\n",
      "\t quinier<EOS>\n",
      "\t men<EOS>\n",
      "\t melengen<EOS>\n",
      "\t men<EOS>\n",
      "\t menvr<EOS>\n",
      "\t ks<EOS>\n",
      "\t tan<EOS>\n"
     ]
    },
    {
     "name": "stderr",
     "output_type": "stream",
     "text": [
      " 17%|█▋        | 30179/173544 [00:29<02:27, 969.25it/s] "
     ]
    },
    {
     "name": "stdout",
     "output_type": "stream",
     "text": [
      "\t kd<EOS>\n",
      "\t as<EOS>\n",
      "\t f<EOS>\n",
      "\t n<EOS>\n",
      "\t on<EOS>\n",
      "\t uin<EOS>\n",
      "\t rerder<EOS>\n",
      "\t uin<EOS>\n",
      "\t an<EOS>\n",
      "\t uinen<EOS>\n"
     ]
    },
    {
     "name": "stderr",
     "output_type": "stream",
     "text": [
      " 23%|██▎       | 40160/173544 [00:38<02:09, 1032.47it/s]"
     ]
    },
    {
     "name": "stdout",
     "output_type": "stream",
     "text": [
      "\t hen<EOS>\n",
      "\t penier<EOS>\n",
      "\t hen<EOS>\n",
      "\t pen<EOS>\n",
      "\t n<EOS>\n",
      "\t kwer<EOS>\n",
      "\t len<EOS>\n",
      "\t n<EOS>\n",
      "\t quin<EOS>\n",
      "\t nacor<EOS>\n"
     ]
    },
    {
     "name": "stderr",
     "output_type": "stream",
     "text": [
      " 29%|██▉       | 50191/173544 [00:48<02:00, 1024.40it/s]"
     ]
    },
    {
     "name": "stdout",
     "output_type": "stream",
     "text": [
      "\t man<EOS>\n",
      "\t ler<EOS>\n",
      "\t antepsen<EOS>\n",
      "\t an<EOS>\n",
      "\t ul<EOS>\n",
      "\t on<EOS>\n",
      "\t ps<EOS>\n",
      "\t on<EOS>\n",
      "\t ter<EOS>\n",
      "\t pen<EOS>\n"
     ]
    },
    {
     "name": "stderr",
     "output_type": "stream",
     "text": [
      " 35%|███▍      | 60171/173544 [00:57<01:51, 1018.36it/s]"
     ]
    },
    {
     "name": "stdout",
     "output_type": "stream",
     "text": [
      "\t ler<EOS>\n",
      "\t sten<EOS>\n",
      "\t ten<EOS>\n",
      "\t oon<EOS>\n",
      "\t ustein<EOS>\n",
      "\t rezer<EOS>\n",
      "\t man<EOS>\n",
      "\t pen<EOS>\n",
      "\t n<EOS>\n",
      "\t spen<EOS>\n"
     ]
    },
    {
     "name": "stderr",
     "output_type": "stream",
     "text": [
      " 40%|████      | 70161/173544 [01:07<01:41, 1019.27it/s]"
     ]
    },
    {
     "name": "stdout",
     "output_type": "stream",
     "text": [
      "\t quin<EOS>\n",
      "\t k<EOS>\n",
      "\t hent<EOS>\n",
      "\t lan<EOS>\n",
      "\t f<EOS>\n",
      "\t her<EOS>\n",
      "\t ud<EOS>\n",
      "\t ken<EOS>\n",
      "\t st<EOS>\n",
      "\t st<EOS>\n"
     ]
    },
    {
     "name": "stderr",
     "output_type": "stream",
     "text": [
      " 46%|████▌     | 80131/173544 [01:17<01:31, 1017.68it/s]"
     ]
    },
    {
     "name": "stdout",
     "output_type": "stream",
     "text": [
      "\t tein<EOS>\n",
      "\t ten<EOS>\n",
      "\t ren<EOS>\n",
      "\t ones<EOS>\n",
      "\t sten<EOS>\n",
      "\t quiden<EOS>\n",
      "\t ken<EOS>\n",
      "\t on<EOS>\n",
      "\t kan<EOS>\n",
      "\t lengan<EOS>\n"
     ]
    },
    {
     "name": "stderr",
     "output_type": "stream",
     "text": [
      " 52%|█████▏    | 90098/173544 [01:26<01:23, 1004.74it/s]"
     ]
    },
    {
     "name": "stdout",
     "output_type": "stream",
     "text": [
      "\t ster<EOS>\n",
      "\t k<EOS>\n",
      "\t l<EOS>\n",
      "\t uin<EOS>\n",
      "\t reen<EOS>\n",
      "\t tf<EOS>\n",
      "\t mends<EOS>\n",
      "\t ren<EOS>\n",
      "\t men<EOS>\n",
      "\t mengenge<EOS>\n"
     ]
    },
    {
     "name": "stderr",
     "output_type": "stream",
     "text": [
      " 58%|█████▊    | 100159/173544 [01:36<01:13, 1000.75it/s]"
     ]
    },
    {
     "name": "stdout",
     "output_type": "stream",
     "text": [
      "\t f<EOS>\n",
      "\t st<EOS>\n",
      "\t n<EOS>\n",
      "\t on<EOS>\n",
      "\t lasl<EOS>\n",
      "\t rke<EOS>\n",
      "\t hon<EOS>\n",
      "\t on<EOS>\n",
      "\t f<EOS>\n",
      "\t kengen<EOS>\n"
     ]
    },
    {
     "name": "stderr",
     "output_type": "stream",
     "text": [
      " 63%|██████▎   | 110089/173544 [01:45<00:59, 1067.78it/s]"
     ]
    },
    {
     "name": "stdout",
     "output_type": "stream",
     "text": [
      "\t ter<EOS>\n",
      "\t ren<EOS>\n",
      "\t anen<EOS>\n",
      "\t manur<EOS>\n",
      "\t ler<EOS>\n",
      "\t qr<EOS>\n",
      "\t urokaaan<EOS>\n",
      "\t pcher<EOS>\n",
      "\t ur<EOS>\n",
      "\t aren<EOS>\n"
     ]
    },
    {
     "name": "stderr",
     "output_type": "stream",
     "text": [
      " 69%|██████▉   | 120135/173544 [01:55<00:50, 1049.38it/s]"
     ]
    },
    {
     "name": "stdout",
     "output_type": "stream",
     "text": [
      "\t rver<EOS>\n",
      "\t ren<EOS>\n",
      "\t ler<EOS>\n",
      "\t rn<EOS>\n",
      "\t kerer<EOS>\n",
      "\t ter<EOS>\n",
      "\t per<EOS>\n",
      "\t quin<EOS>\n",
      "\t pe<EOS>\n",
      "\t leveler<EOS>\n"
     ]
    },
    {
     "name": "stderr",
     "output_type": "stream",
     "text": [
      " 75%|███████▍  | 130115/173544 [02:05<00:40, 1059.73it/s]"
     ]
    },
    {
     "name": "stdout",
     "output_type": "stream",
     "text": [
      "\t onjer<EOS>\n",
      "\t fer<EOS>\n",
      "\t an<EOS>\n",
      "\t n<EOS>\n",
      "\t st<EOS>\n",
      "\t relen<EOS>\n",
      "\t an<EOS>\n",
      "\t an<EOS>\n",
      "\t nenel<EOS>\n",
      "\t fer<EOS>\n"
     ]
    },
    {
     "name": "stderr",
     "output_type": "stream",
     "text": [
      " 81%|████████  | 140190/173544 [02:14<00:32, 1028.11it/s]"
     ]
    },
    {
     "name": "stdout",
     "output_type": "stream",
     "text": [
      "\t kener<EOS>\n",
      "\t agen<EOS>\n",
      "\t fs<EOS>\n",
      "\t mangepr<EOS>\n",
      "\t teng<EOS>\n",
      "\t n<EOS>\n",
      "\t pe<EOS>\n",
      "\t mur<EOS>\n",
      "\t st<EOS>\n",
      "\t ot<EOS>\n"
     ]
    },
    {
     "name": "stderr",
     "output_type": "stream",
     "text": [
      " 87%|████████▋ | 150157/173544 [02:24<00:21, 1093.65it/s]"
     ]
    },
    {
     "name": "stdout",
     "output_type": "stream",
     "text": [
      "\t on<EOS>\n",
      "\t ken<EOS>\n",
      "\t st<EOS>\n",
      "\t har<EOS>\n",
      "\t hen<EOS>\n",
      "\t nter<EOS>\n",
      "\t n<EOS>\n",
      "\t quin<EOS>\n",
      "\t mt<EOS>\n",
      "\t ren<EOS>\n"
     ]
    },
    {
     "name": "stderr",
     "output_type": "stream",
     "text": [
      " 92%|█████████▏| 160173/173544 [02:33<00:12, 1040.29it/s]"
     ]
    },
    {
     "name": "stdout",
     "output_type": "stream",
     "text": [
      "\t fben<EOS>\n",
      "\t f<EOS>\n",
      "\t n<EOS>\n",
      "\t f<EOS>\n",
      "\t r<EOS>\n",
      "\t an<EOS>\n",
      "\t hen<EOS>\n",
      "\t uin<EOS>\n",
      "\t an<EOS>\n",
      "\t ker<EOS>\n"
     ]
    },
    {
     "name": "stderr",
     "output_type": "stream",
     "text": [
      " 98%|█████████▊| 170183/173544 [02:43<00:03, 997.98it/s] "
     ]
    },
    {
     "name": "stdout",
     "output_type": "stream",
     "text": [
      "\t ran<EOS>\n",
      "\t on<EOS>\n",
      "\t keronder<EOS>\n",
      "\t quinaaaaat<EOS>\n",
      "\t man<EOS>\n",
      "\t f<EOS>\n",
      "\t an<EOS>\n",
      "\t n<EOS>\n",
      "\t hen<EOS>\n",
      "\t per<EOS>\n"
     ]
    },
    {
     "name": "stderr",
     "output_type": "stream",
     "text": [
      "100%|██████████| 173544/173544 [02:46<00:00, 1042.81it/s]\n"
     ]
    }
   ],
   "source": [
    "from app.ml_models.rnn.data_tools import WordLevelDataset\n",
    "from app.ml_models.rnn.rnn_model import RNNAnna\n",
    "from app.ml_models.rnn.train import train\n",
    "from torch.utils.data import DataLoader\n",
    "hi = WordLevelDataset('data/', 'dutch.txt')\n",
    "print(hi.vocabulary_size)\n",
    "hi_loader = DataLoader(hi, 1, shuffle=True)\n",
    "rnn = RNNAnna(hi.vocabulary_size, 128)\n",
    "rnn = rnn.to(device)\n",
    "train(rnn, hi_loader, hi, device=device, epochs=5,)"
   ]
  },
  {
   "cell_type": "code",
   "execution_count": null,
   "metadata": {},
   "outputs": [],
   "source": []
  }
 ],
 "metadata": {
  "kernelspec": {
   "display_name": "Python 3",
   "language": "python",
   "name": "python3"
  },
  "language_info": {
   "codemirror_mode": {
    "name": "ipython",
    "version": 3
   },
   "file_extension": ".py",
   "mimetype": "text/x-python",
   "name": "python",
   "nbconvert_exporter": "python",
   "pygments_lexer": "ipython3",
   "version": "3.8.5"
  }
 },
 "nbformat": 4,
 "nbformat_minor": 4
}
