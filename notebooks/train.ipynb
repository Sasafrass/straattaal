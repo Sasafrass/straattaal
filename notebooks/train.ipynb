{
 "cells": [
  {
   "cell_type": "markdown",
   "metadata": {},
   "source": [
    "# Basic code for training a new model"
   ]
  },
  {
   "cell_type": "code",
   "execution_count": null,
   "metadata": {},
   "outputs": [],
   "source": [
    "%load_ext autoreload\n",
    "%autoreload 2"
   ]
  },
  {
   "cell_type": "code",
   "execution_count": null,
   "metadata": {},
   "outputs": [],
   "source": [
    "import sys\n",
    "sys.path.append(\"..\")"
   ]
  },
  {
   "cell_type": "code",
   "execution_count": null,
   "metadata": {},
   "outputs": [],
   "source": [
    "import torch\n",
    "device = 'cuda' if torch.cuda.is_available() else 'cpu'"
   ]
  },
  {
   "cell_type": "code",
   "execution_count": null,
   "metadata": {},
   "outputs": [],
   "source": [
    "from app.ml_models.rnn.data_tools import WordLevelDataset\n",
    "from app.ml_models.rnn.rnn_model import RNNAnna\n",
    "from app.ml_models.rnn.train import train\n",
    "from torch.utils.data import DataLoader\n",
    "hi = WordLevelDataset('../data/', ['dutch.txt'])\n",
    "print(\"Vocabulary size\", hi.vocabulary.size)\n",
    "hi_loader = DataLoader(hi, 1, shuffle=True)\n",
    "rnn = RNNAnna(hi.vocabulary.size, 128)\n",
    "rnn = rnn.to(device)"
   ]
  },
  {
   "cell_type": "code",
   "execution_count": null,
   "metadata": {},
   "outputs": [],
   "source": [
    "# For straattaal I doubled the epochs as it wasn't converging in the plot from the prev. notebook\n",
    "# For Dutch woordenboek, TOO BIG, only 3 epochs\n",
    "train(rnn, hi_loader, hi, device=device, epochs=3, name='dutch',learning_rate=0.0001)"
   ]
  }
 ],
 "metadata": {
  "kernelspec": {
   "display_name": "Python 3",
   "language": "python",
   "name": "python3"
  },
  "language_info": {
   "codemirror_mode": {
    "name": "ipython",
    "version": 3
   },
   "file_extension": ".py",
   "mimetype": "text/x-python",
   "name": "python",
   "nbconvert_exporter": "python",
   "pygments_lexer": "ipython3",
   "version": "3.8.5"
  }
 },
 "nbformat": 4,
 "nbformat_minor": 4
}
