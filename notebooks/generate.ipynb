{
 "cells": [
  {
   "cell_type": "markdown",
   "metadata": {},
   "source": [
    "# Generating new words"
   ]
  },
  {
   "cell_type": "markdown",
   "metadata": {},
   "source": [
    "### Load all necessary items"
   ]
  },
  {
   "cell_type": "code",
   "execution_count": 1,
   "metadata": {},
   "outputs": [],
   "source": [
    "%load_ext autoreload\n",
    "%autoreload 2"
   ]
  },
  {
   "cell_type": "code",
   "execution_count": 2,
   "metadata": {},
   "outputs": [],
   "source": [
    "import sys\n",
    "sys.path.append(\"..\")"
   ]
  },
  {
   "cell_type": "code",
   "execution_count": 3,
   "metadata": {},
   "outputs": [
    {
     "name": "stdout",
     "output_type": "stream",
     "text": [
      "Database URI: sqlite:////home/anna/Documents/prog/dutchlm/straattaal/app.db\n"
     ]
    }
   ],
   "source": [
    "from app.ml_models.rnn.rnn_model import RNNAnna\n",
    "from app.ml_models.rnn.generate import generate_word\n",
    "from app.ml_models.rnn.data_tools import WordLevelDataset"
   ]
  },
  {
   "cell_type": "code",
   "execution_count": 4,
   "metadata": {},
   "outputs": [],
   "source": [
    "import os\n",
    "from collections import Counter\n",
    "import torch\n",
    "from app.ml_models.rnn.loaded_rnn_model import load_model\n",
    "m, v = load_model('2021_straattaal_epoch100.pt', extra_path=['..'], device='cuda' if torch.cuda.is_available() else 'cpu')"
   ]
  },
  {
   "cell_type": "code",
   "execution_count": 5,
   "metadata": {},
   "outputs": [],
   "source": [
    "existing = WordLevelDataset(\n",
    "        prefix=\"../data\",\n",
    "        filename_datasets=[\"straattaal.txt\", \"dutch.txt\"],\n",
    "        vocabulary=v,\n",
    "    ).all_words_to_set()"
   ]
  },
  {
   "cell_type": "markdown",
   "metadata": {},
   "source": [
    "### Keep track of words that are copied"
   ]
  },
  {
   "cell_type": "code",
   "execution_count": 6,
   "metadata": {},
   "outputs": [],
   "source": [
    "copy_traindata = Counter()\n",
    "def generate_words(amt = 10, temperature=0.3, do_print=True):\n",
    "    copied = 0\n",
    "    for i in range(amt):\n",
    "        word = generate_word(m, v, temperature=temperature, start_letter='random')\n",
    "        #distance = min([(editdistance.distance(a,word),a) for a in existing])\n",
    "        if word not in existing:\n",
    "            if do_print:\n",
    "                print(word)\n",
    "        else:\n",
    "            copy_traindata[word] += 1\n",
    "            copied +=1\n",
    "        \n",
    "    print(f'Copied words for temperature={temperature}', copied/amt)"
   ]
  },
  {
   "cell_type": "code",
   "execution_count": 7,
   "metadata": {},
   "outputs": [
    {
     "name": "stdout",
     "output_type": "stream",
     "text": [
      "skippa\n",
      "hapi\n",
      "uitg\n",
      "moruj\n",
      "ragie\n",
      "granka\n",
      "trala\n",
      "yottie\n",
      "zibren\n",
      "wkeren\n",
      "Copied words for temperature=0.35 0.5\n"
     ]
    }
   ],
   "source": [
    "generate_words(20, 0.35,True)"
   ]
  },
  {
   "cell_type": "code",
   "execution_count": 8,
   "metadata": {},
   "outputs": [
    {
     "name": "stdout",
     "output_type": "stream",
     "text": [
      "Copied words for temperature=0.001 0.76\n",
      "Copied words for temperature=0.1 0.62\n",
      "Copied words for temperature=0.3 0.53\n",
      "Copied words for temperature=0.4 0.47\n",
      "Copied words for temperature=0.6 0.41\n",
      "Copied words for temperature=1.0 0.31\n"
     ]
    }
   ],
   "source": [
    "for t in [0.001, 0.1,0.3,0.4,0.6,1.0]:\n",
    "    generate_words(100,t,False)"
   ]
  },
  {
   "cell_type": "code",
   "execution_count": 9,
   "metadata": {},
   "outputs": [],
   "source": [
    "# Which datapoints are often simply copied?\n",
    "# copy_traindata"
   ]
  }
 ],
 "metadata": {
  "kernelspec": {
   "display_name": "Python 3.8.5 64-bit ('python38': conda)",
   "language": "python",
   "name": "python38564bitpython38condab39e7ba599934a11ab2cc6ee4fea03c8"
  },
  "language_info": {
   "codemirror_mode": {
    "name": "ipython",
    "version": 3
   },
   "file_extension": ".py",
   "mimetype": "text/x-python",
   "name": "python",
   "nbconvert_exporter": "python",
   "pygments_lexer": "ipython3",
   "version": "3.8.5"
  }
 },
 "nbformat": 4,
 "nbformat_minor": 4
}
